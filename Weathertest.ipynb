{
 "cells": [
  {
   "cell_type": "code",
   "execution_count": 5,
   "metadata": {
    "collapsed": false
   },
   "outputs": [],
   "source": [
    "import pandas as pd\n",
    "import datetime\n",
    "import forecastio\n",
    "import getpass"
   ]
  },
  {
   "cell_type": "code",
   "execution_count": 7,
   "metadata": {
    "collapsed": false
   },
   "outputs": [
    {
     "name": "stdout",
     "output_type": "stream",
     "text": [
      "········\n"
     ]
    }
   ],
   "source": [
    "api_key = \"5e95200370853469ebe010d02807688a\"\n",
    "api_key = getpass.getpass()\n"
   ]
  },
  {
   "cell_type": "code",
   "execution_count": 8,
   "metadata": {
    "collapsed": false
   },
   "outputs": [
    {
     "data": {
      "text/plain": [
       "32"
      ]
     },
     "execution_count": 8,
     "metadata": {},
     "output_type": "execute_result"
    }
   ],
   "source": [
    "len(api_key)"
   ]
  },
  {
   "cell_type": "code",
   "execution_count": 15,
   "metadata": {
    "collapsed": true
   },
   "outputs": [],
   "source": [
    "chi_lat = 41.881832\n",
    "chi_lng = -87.623177"
   ]
  },
  {
   "cell_type": "code",
   "execution_count": 33,
   "metadata": {
    "collapsed": true
   },
   "outputs": [],
   "source": [
    "attributes = ['temperature', 'summary']\n",
    "\n",
    "times = []\n",
    "data = {}\n",
    "for attr in attributes:\n",
    "    data[attr] = []"
   ]
  },
  {
   "cell_type": "code",
   "execution_count": 34,
   "metadata": {
    "collapsed": false
   },
   "outputs": [],
   "source": [
    "start = datetime.datetime(2013,12,31)\n",
    "for offset in range(367):\n",
    "    forecast = forecastio.load_forecast(api_key, chi_lat, chi_lng, time = start + datetime.timedelta(offset), units = \"us\")\n",
    "    h = forecast.hourly()\n",
    "    d = h.data\n",
    "    for p in d:\n",
    "        times.append(p.time)\n",
    "        for attr in attributes:\n",
    "            data[attr].append(p.d[attr])"
   ]
  },
  {
   "cell_type": "code",
   "execution_count": 35,
   "metadata": {
    "collapsed": true
   },
   "outputs": [],
   "source": [
    "df = pd.DataFrame(data, index=times)"
   ]
  },
  {
   "cell_type": "code",
   "execution_count": 42,
   "metadata": {
    "collapsed": false
   },
   "outputs": [
    {
     "data": {
      "text/html": [
       "<div>\n",
       "<table border=\"1\" class=\"dataframe\">\n",
       "  <thead>\n",
       "    <tr style=\"text-align: right;\">\n",
       "      <th></th>\n",
       "      <th>summary</th>\n",
       "      <th>temperature</th>\n",
       "    </tr>\n",
       "  </thead>\n",
       "  <tbody>\n",
       "    <tr>\n",
       "      <th>2013-12-31 06:00:00</th>\n",
       "      <td>Overcast</td>\n",
       "      <td>10.69</td>\n",
       "    </tr>\n",
       "    <tr>\n",
       "      <th>2013-12-31 07:00:00</th>\n",
       "      <td>Light Snow</td>\n",
       "      <td>10.07</td>\n",
       "    </tr>\n",
       "    <tr>\n",
       "      <th>2013-12-31 08:00:00</th>\n",
       "      <td>Clear</td>\n",
       "      <td>9.30</td>\n",
       "    </tr>\n",
       "    <tr>\n",
       "      <th>2013-12-31 09:00:00</th>\n",
       "      <td>Clear</td>\n",
       "      <td>7.93</td>\n",
       "    </tr>\n",
       "    <tr>\n",
       "      <th>2013-12-31 10:00:00</th>\n",
       "      <td>Clear</td>\n",
       "      <td>7.32</td>\n",
       "    </tr>\n",
       "  </tbody>\n",
       "</table>\n",
       "</div>"
      ],
      "text/plain": [
       "                        summary  temperature\n",
       "2013-12-31 06:00:00    Overcast        10.69\n",
       "2013-12-31 07:00:00  Light Snow        10.07\n",
       "2013-12-31 08:00:00       Clear         9.30\n",
       "2013-12-31 09:00:00       Clear         7.93\n",
       "2013-12-31 10:00:00       Clear         7.32"
      ]
     },
     "execution_count": 42,
     "metadata": {},
     "output_type": "execute_result"
    }
   ],
   "source": [
    "df.head()"
   ]
  },
  {
   "cell_type": "code",
   "execution_count": 39,
   "metadata": {
    "collapsed": true
   },
   "outputs": [],
   "source": [
    "import pytz\n",
    "central = pytz.timezone('US/Central')"
   ]
  },
  {
   "cell_type": "code",
   "execution_count": 40,
   "metadata": {
    "collapsed": true
   },
   "outputs": [],
   "source": [
    "df_time = df.tz_localize(pytz.utc).tz_convert(central)"
   ]
  },
  {
   "cell_type": "code",
   "execution_count": 45,
   "metadata": {
    "collapsed": false
   },
   "outputs": [
    {
     "data": {
      "text/plain": [
       "Clear                            4593\n",
       "Partly Cloudy                    1714\n",
       "Overcast                          787\n",
       "Mostly Cloudy                     567\n",
       "Light Rain                        234\n",
       "Breezy                            137\n",
       "Drizzle                           127\n",
       "Rain                              100\n",
       "Light Snow                         94\n",
       "Foggy                              76\n",
       "Windy                              54\n",
       "Humid                              53\n",
       "Breezy and Partly Cloudy           38\n",
       "Humid and Partly Cloudy            30\n",
       "Breezy and Overcast                26\n",
       "Heavy Rain                         23\n",
       "Light Rain and Breezy              19\n",
       "Windy and Overcast                 17\n",
       "Light Snow and Breezy              16\n",
       "Snow (Under 1 in.)                 12\n",
       "Breezy and Mostly Cloudy           11\n",
       "Snow                               10\n",
       "Flurries                           10\n",
       "Windy and Mostly Cloudy             8\n",
       "Dry                                 8\n",
       "Light Rain and Windy                5\n",
       "Humid and Overcast                  5\n",
       "Light Snow and Windy                5\n",
       "Drizzle and Breezy                  5\n",
       "Dry and Partly Cloudy               3\n",
       "Drizzle and Windy                   3\n",
       "Humid and Mostly Cloudy             3\n",
       "Rain and Breezy                     2\n",
       "Dry and Mostly Cloudy               2\n",
       "Snow and Windy                      2\n",
       "Heavy Snow (Under 1 in.)            2\n",
       "Windy and Partly Cloudy             2\n",
       "Snow (22–37 in.) and Windy          1\n",
       "Snow (Under 1 in.) and Windy        1\n",
       "Heavy Snow (1–2 in.)                1\n",
       "Heavy Rain and Breezy               1\n",
       "Snow (Under 1 in.) and Breezy       1\n",
       "dtype: int64"
      ]
     },
     "execution_count": 45,
     "metadata": {},
     "output_type": "execute_result"
    }
   ],
   "source": [
    "df_time.summary.value_counts()"
   ]
  },
  {
   "cell_type": "code",
   "execution_count": null,
   "metadata": {
    "collapsed": true
   },
   "outputs": [],
   "source": []
  }
 ],
 "metadata": {
  "kernelspec": {
   "display_name": "Python 2",
   "language": "python",
   "name": "python2"
  },
  "language_info": {
   "codemirror_mode": {
    "name": "ipython",
    "version": 2
   },
   "file_extension": ".py",
   "mimetype": "text/x-python",
   "name": "python",
   "nbconvert_exporter": "python",
   "pygments_lexer": "ipython2",
   "version": "2.7.10"
  }
 },
 "nbformat": 4,
 "nbformat_minor": 0
}
