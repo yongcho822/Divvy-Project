{
 "cells": [
  {
   "cell_type": "code",
   "execution_count": 223,
   "metadata": {
    "collapsed": true
   },
   "outputs": [],
   "source": [
    "import pandas as pd\n",
    "import numpy as np\n",
    "import dateutil.parser\n",
    "import matplotlib.pyplot as plt\n",
    "import seaborn as sns\n",
    "import calendar\n",
    "import json\n",
    "import datetime\n",
    "from sklearn.neighbors import KNeighborsClassifier\n",
    "from sklearn.learning_curve import learning_curve\n",
    "from sklearn.metrics import accuracy_score\n",
    "from sklearn.naive_bayes import GaussianNB\n",
    "from sklearn.tree import DecisionTreeClassifier\n",
    "from sklearn.ensemble import RandomForestClassifier, GradientBoostingClassifier\n",
    "from sklearn.svm import SVC\n",
    "from sklearn.linear_model import LinearRegression, LogisticRegression\n",
    "from sklearn.cross_validation import train_test_split, cross_val_score, cross_val_predict\n",
    "from urllib2 import Request, urlopen\n",
    "from pandas.io.json import json_normalize\n",
    "from patsy import dmatrices\n",
    "%matplotlib inline"
   ]
  },
  {
   "cell_type": "code",
   "execution_count": 2,
   "metadata": {
    "collapsed": true
   },
   "outputs": [],
   "source": [
    "divvy_df = pd.read_csv('bigfile.csv', sep = ',')"
   ]
  },
  {
   "cell_type": "code",
   "execution_count": 4,
   "metadata": {
    "collapsed": false
   },
   "outputs": [
    {
     "data": {
      "text/plain": [
       "(2454634, 12)"
      ]
     },
     "execution_count": 4,
     "metadata": {},
     "output_type": "execute_result"
    }
   ],
   "source": [
    "divvy_df.shape\n",
    "#holy cow batman, 2,454,634 total divvy trips in 2014."
   ]
  },
  {
   "cell_type": "code",
   "execution_count": 98,
   "metadata": {
    "collapsed": false
   },
   "outputs": [
    {
     "data": {
      "text/plain": [
       "300"
      ]
     },
     "execution_count": 98,
     "metadata": {},
     "output_type": "execute_result"
    }
   ],
   "source": [
    "divvy_df['to_station_id'].nunique()\n",
    "#there are 300 unique station IDs but the range is from 5 to 351"
   ]
  },
  {
   "cell_type": "code",
   "execution_count": 9,
   "metadata": {
    "collapsed": true
   },
   "outputs": [],
   "source": [
    "#converting to datetime objects and then wiping out the mins and secs so we can bin by hour.\n",
    "\n",
    "def hourbinner(fulltime):\n",
    "    return dateutil.parser.parse(fulltime).replace(minute=0, second=0)"
   ]
  },
  {
   "cell_type": "code",
   "execution_count": 10,
   "metadata": {
    "collapsed": true
   },
   "outputs": [],
   "source": [
    "#making a deep copy of the DF.\n",
    "\n",
    "divvy_hr_df = divvy_df.copy(deep = True)"
   ]
  },
  {
   "cell_type": "code",
   "execution_count": 13,
   "metadata": {
    "collapsed": false
   },
   "outputs": [],
   "source": [
    "#converting to datetime objects and then wiping out the mins and secs so we can bin by hour.\n",
    "\n",
    "divvy_hr_df.starttime = divvy_hr_df.starttime.apply(lambda x: hourbinner(x))\n",
    "divvy_hr_df.stoptime = divvy_hr_df.stoptime.apply(lambda x: hourbinner(x))\n",
    "\n",
    "#this took like 5 mins, at least "
   ]
  },
  {
   "cell_type": "code",
   "execution_count": 15,
   "metadata": {
    "collapsed": false
   },
   "outputs": [
    {
     "name": "stdout",
     "output_type": "stream",
     "text": [
      "Done here.\n"
     ]
    }
   ],
   "source": [
    "fromstation_starttime = divvy_hr_df.groupby(['from_station_name', 'starttime']).size()\n",
    "\n",
    "#we have a multi-index, so lets start by moving 'from_station_name' out, using unstack.\n",
    "ts = fromstation_starttime.unstack(level=0)\n",
    "\n",
    "#now with a single-lvl DatetimeIndex, reindex by filling all empty values with 0\n",
    "index = pd.date_range('2014-01-01', '2014-12-31', freq='H')\n",
    "ts = ts.reindex(index, fill_value = 0)\n",
    "\n",
    "#fill NaNs with 0s so they don't go away when you restack\n",
    "ts = ts.fillna(0)\n",
    "\n",
    "#restack\n",
    "ts = ts.stack()\n",
    "\n",
    "\"\"\"what's happening here\"\"\"\n",
    "ts = ts.swaplevel(0,1)\n",
    "ts = ts.sortlevel()\n",
    "print 'Done here.'"
   ]
  },
  {
   "cell_type": "code",
   "execution_count": 16,
   "metadata": {
    "collapsed": false
   },
   "outputs": [
    {
     "name": "stdout",
     "output_type": "stream",
     "text": [
      "Done here.\n"
     ]
    }
   ],
   "source": [
    "#same as above\n",
    "tostation_stoptime = divvy_hr_df.groupby(['to_station_name', 'stoptime']).size()\n",
    "vs = tostation_stoptime.unstack(level=0)\n",
    "vs = vs.reindex(index, fill_value = 0)\n",
    "vs = vs.fillna(0)\n",
    "vs = vs.stack()\n",
    "vs = vs.swaplevel(0,1)\n",
    "vs = vs.sortlevel()\n",
    "print 'Done here.'"
   ]
  },
  {
   "cell_type": "code",
   "execution_count": 17,
   "metadata": {
    "collapsed": false
   },
   "outputs": [
    {
     "name": "stdout",
     "output_type": "stream",
     "text": [
      "Done here.\n"
     ]
    }
   ],
   "source": [
    "combined = pd.concat([ts, vs], axis=1)\n",
    "combined.columns = ['outflow', 'inflow']\n",
    "print 'Done here.'"
   ]
  },
  {
   "cell_type": "code",
   "execution_count": 20,
   "metadata": {
    "collapsed": false
   },
   "outputs": [
    {
     "name": "stdout",
     "output_type": "stream",
     "text": [
      "Done here.\n"
     ]
    }
   ],
   "source": [
    "combined['flowdiff'] = combined['inflow'] - combined['outflow']\n",
    "combined.index.names = ['station_name', 'hourly_time']\n",
    "print 'Done here.'"
   ]
  },
  {
   "cell_type": "code",
   "execution_count": 78,
   "metadata": {
    "collapsed": true
   },
   "outputs": [
    {
     "data": {
      "text/plain": [
       "([<matplotlib.axis.XTick at 0x118dddb50>,\n",
       "  <matplotlib.axis.XTick at 0x118f93390>,\n",
       "  <matplotlib.axis.XTick at 0x114ff0750>,\n",
       "  <matplotlib.axis.XTick at 0x117b6cd50>,\n",
       "  <matplotlib.axis.XTick at 0x118420910>,\n",
       "  <matplotlib.axis.XTick at 0x118420310>,\n",
       "  <matplotlib.axis.XTick at 0x117b86d50>,\n",
       "  <matplotlib.axis.XTick at 0x117b86ed0>,\n",
       "  <matplotlib.axis.XTick at 0x117b92e10>,\n",
       "  <matplotlib.axis.XTick at 0x117b925d0>,\n",
       "  <matplotlib.axis.XTick at 0x117ba1b50>,\n",
       "  <matplotlib.axis.XTick at 0x117ba1fd0>,\n",
       "  <matplotlib.axis.XTick at 0x117bacb90>,\n",
       "  <matplotlib.axis.XTick at 0x117baca50>,\n",
       "  <matplotlib.axis.XTick at 0x117cb9890>,\n",
       "  <matplotlib.axis.XTick at 0x117cb9c10>],\n",
       " <a list of 16 Text xticklabel objects>)"
      ]
     },
     "execution_count": 78,
     "metadata": {},
     "output_type": "execute_result"
    },
    {
     "data": {
      "image/png": "[encoded data removed]",
      "text/plain": [
       "<matplotlib.figure.Figure at 0x1187ddb10>"
      ]
     },
     "metadata": {},
     "output_type": "display_data"
    }
   ],
   "source": [
    "\"\"\"can't set the xticks properly for some reason, figure this out\"\"\"\n",
    "\n",
    "flowdiff_distrib = combined['flowdiff'].value_counts()\n",
    "percents = (flowdiff_distrib/2454634*100).sort_index()\n",
    "\n",
    "fig = plt.figure(figsize = (8,6))\n",
    "ax = fig.add_subplot(111)\n",
    "\n",
    "percents.plot(use_index=True, kind = 'bar')\n",
    "ax.set_xlabel(\"Flux-Counts\")\n",
    "# plt.xticks(np.arange(min(percents.index), max(percents.index)+1, 10.0))"
   ]
  },
  {
   "cell_type": "code",
   "execution_count": 80,
   "metadata": {
    "collapsed": false
   },
   "outputs": [
    {
     "data": {
      "text/html": [
       "<div>\n",
       "<table border=\"1\" class=\"dataframe\">\n",
       "  <thead>\n",
       "    <tr style=\"text-align: right;\">\n",
       "      <th></th>\n",
       "      <th></th>\n",
       "      <th>outflow</th>\n",
       "      <th>inflow</th>\n",
       "      <th>flowdiff</th>\n",
       "    </tr>\n",
       "    <tr>\n",
       "      <th>station_name</th>\n",
       "      <th>hourly_time</th>\n",
       "      <th></th>\n",
       "      <th></th>\n",
       "      <th></th>\n",
       "    </tr>\n",
       "  </thead>\n",
       "  <tbody>\n",
       "    <tr>\n",
       "      <th rowspan=\"5\" valign=\"top\">900 W Harrison</th>\n",
       "      <th>2014-01-01 00:00:00</th>\n",
       "      <td>0</td>\n",
       "      <td>0</td>\n",
       "      <td>0</td>\n",
       "    </tr>\n",
       "    <tr>\n",
       "      <th>2014-01-01 01:00:00</th>\n",
       "      <td>0</td>\n",
       "      <td>0</td>\n",
       "      <td>0</td>\n",
       "    </tr>\n",
       "    <tr>\n",
       "      <th>2014-01-01 02:00:00</th>\n",
       "      <td>0</td>\n",
       "      <td>0</td>\n",
       "      <td>0</td>\n",
       "    </tr>\n",
       "    <tr>\n",
       "      <th>2014-01-01 03:00:00</th>\n",
       "      <td>0</td>\n",
       "      <td>0</td>\n",
       "      <td>0</td>\n",
       "    </tr>\n",
       "    <tr>\n",
       "      <th>2014-01-01 04:00:00</th>\n",
       "      <td>0</td>\n",
       "      <td>0</td>\n",
       "      <td>0</td>\n",
       "    </tr>\n",
       "  </tbody>\n",
       "</table>\n",
       "</div>"
      ],
      "text/plain": [
       "                                    outflow  inflow  flowdiff\n",
       "station_name   hourly_time                                   \n",
       "900 W Harrison 2014-01-01 00:00:00        0       0         0\n",
       "               2014-01-01 01:00:00        0       0         0\n",
       "               2014-01-01 02:00:00        0       0         0\n",
       "               2014-01-01 03:00:00        0       0         0\n",
       "               2014-01-01 04:00:00        0       0         0"
      ]
     },
     "execution_count": 80,
     "metadata": {},
     "output_type": "execute_result"
    }
   ],
   "source": [
    "combined.head()"
   ]
  },
  {
   "cell_type": "code",
   "execution_count": 81,
   "metadata": {
    "collapsed": true
   },
   "outputs": [],
   "source": [
    "#flattened the multi-index DF from above.\n",
    "\n",
    "combined.reset_index(inplace=True)"
   ]
  },
  {
   "cell_type": "code",
   "execution_count": 126,
   "metadata": {
    "collapsed": false
   },
   "outputs": [
    {
     "data": {
      "text/html": [
       "<div>\n",
       "<table border=\"1\" class=\"dataframe\">\n",
       "  <thead>\n",
       "    <tr style=\"text-align: right;\">\n",
       "      <th></th>\n",
       "      <th>station_name</th>\n",
       "      <th>hourly_time</th>\n",
       "      <th>outflow</th>\n",
       "      <th>inflow</th>\n",
       "      <th>flowdiff</th>\n",
       "    </tr>\n",
       "  </thead>\n",
       "  <tbody>\n",
       "    <tr>\n",
       "      <th>0</th>\n",
       "      <td>900 W Harrison</td>\n",
       "      <td>2014-01-01 00:00:00</td>\n",
       "      <td>0</td>\n",
       "      <td>0</td>\n",
       "      <td>0</td>\n",
       "    </tr>\n",
       "    <tr>\n",
       "      <th>1</th>\n",
       "      <td>900 W Harrison</td>\n",
       "      <td>2014-01-01 01:00:00</td>\n",
       "      <td>0</td>\n",
       "      <td>0</td>\n",
       "      <td>0</td>\n",
       "    </tr>\n",
       "    <tr>\n",
       "      <th>2</th>\n",
       "      <td>900 W Harrison</td>\n",
       "      <td>2014-01-01 02:00:00</td>\n",
       "      <td>0</td>\n",
       "      <td>0</td>\n",
       "      <td>0</td>\n",
       "    </tr>\n",
       "    <tr>\n",
       "      <th>3</th>\n",
       "      <td>900 W Harrison</td>\n",
       "      <td>2014-01-01 03:00:00</td>\n",
       "      <td>0</td>\n",
       "      <td>0</td>\n",
       "      <td>0</td>\n",
       "    </tr>\n",
       "    <tr>\n",
       "      <th>4</th>\n",
       "      <td>900 W Harrison</td>\n",
       "      <td>2014-01-01 04:00:00</td>\n",
       "      <td>0</td>\n",
       "      <td>0</td>\n",
       "      <td>0</td>\n",
       "    </tr>\n",
       "  </tbody>\n",
       "</table>\n",
       "</div>"
      ],
      "text/plain": [
       "     station_name         hourly_time  outflow  inflow  flowdiff\n",
       "0  900 W Harrison 2014-01-01 00:00:00        0       0         0\n",
       "1  900 W Harrison 2014-01-01 01:00:00        0       0         0\n",
       "2  900 W Harrison 2014-01-01 02:00:00        0       0         0\n",
       "3  900 W Harrison 2014-01-01 03:00:00        0       0         0\n",
       "4  900 W Harrison 2014-01-01 04:00:00        0       0         0"
      ]
     },
     "execution_count": 126,
     "metadata": {},
     "output_type": "execute_result"
    }
   ],
   "source": [
    "combined.head()"
   ]
  },
  {
   "cell_type": "code",
   "execution_count": 127,
   "metadata": {
    "collapsed": true
   },
   "outputs": [],
   "source": [
    "#extracting the IDs to go with the station_name so we can match w the JSON info later.\n",
    "\n",
    "#make a deep copy of just the station IDs and station names.\n",
    "just_ID_name = divvy_df.copy(deep=True)[['from_station_id', 'from_station_name']]\n",
    "\n",
    "#just because.\n",
    "just_ID_name = just_ID_name.rename(columns = {'from_station_name':'station_name'})\n",
    "\n",
    "#if you don't drop duplicates, it becomes a mess to join on.\n",
    "just_ID_name = just_ID_name.drop_duplicates()"
   ]
  },
  {
   "cell_type": "code",
   "execution_count": 128,
   "metadata": {
    "collapsed": false
   },
   "outputs": [
    {
     "name": "stdout",
     "output_type": "stream",
     "text": [
      "Done here.\n"
     ]
    }
   ],
   "source": [
    "#merging the dataframes, it will automatically recognize and merge on the same key in this instance.\n",
    "result = combined.merge(just_ID_name)\n",
    "result = result.rename(columns = {'from_station_id':'id'})\n",
    "print 'Done here.'"
   ]
  },
  {
   "cell_type": "code",
   "execution_count": 129,
   "metadata": {
    "collapsed": false
   },
   "outputs": [
    {
     "data": {
      "text/html": [
       "<div>\n",
       "<table border=\"1\" class=\"dataframe\">\n",
       "  <thead>\n",
       "    <tr style=\"text-align: right;\">\n",
       "      <th></th>\n",
       "      <th>station_name</th>\n",
       "      <th>hourly_time</th>\n",
       "      <th>outflow</th>\n",
       "      <th>inflow</th>\n",
       "      <th>flowdiff</th>\n",
       "      <th>id</th>\n",
       "    </tr>\n",
       "  </thead>\n",
       "  <tbody>\n",
       "    <tr>\n",
       "      <th>0</th>\n",
       "      <td>900 W Harrison</td>\n",
       "      <td>2014-01-01 00:00:00</td>\n",
       "      <td>0</td>\n",
       "      <td>0</td>\n",
       "      <td>0</td>\n",
       "      <td>109</td>\n",
       "    </tr>\n",
       "    <tr>\n",
       "      <th>1</th>\n",
       "      <td>900 W Harrison</td>\n",
       "      <td>2014-01-01 01:00:00</td>\n",
       "      <td>0</td>\n",
       "      <td>0</td>\n",
       "      <td>0</td>\n",
       "      <td>109</td>\n",
       "    </tr>\n",
       "    <tr>\n",
       "      <th>2</th>\n",
       "      <td>900 W Harrison</td>\n",
       "      <td>2014-01-01 02:00:00</td>\n",
       "      <td>0</td>\n",
       "      <td>0</td>\n",
       "      <td>0</td>\n",
       "      <td>109</td>\n",
       "    </tr>\n",
       "    <tr>\n",
       "      <th>3</th>\n",
       "      <td>900 W Harrison</td>\n",
       "      <td>2014-01-01 03:00:00</td>\n",
       "      <td>0</td>\n",
       "      <td>0</td>\n",
       "      <td>0</td>\n",
       "      <td>109</td>\n",
       "    </tr>\n",
       "    <tr>\n",
       "      <th>4</th>\n",
       "      <td>900 W Harrison</td>\n",
       "      <td>2014-01-01 04:00:00</td>\n",
       "      <td>0</td>\n",
       "      <td>0</td>\n",
       "      <td>0</td>\n",
       "      <td>109</td>\n",
       "    </tr>\n",
       "  </tbody>\n",
       "</table>\n",
       "</div>"
      ],
      "text/plain": [
       "     station_name         hourly_time  outflow  inflow  flowdiff   id\n",
       "0  900 W Harrison 2014-01-01 00:00:00        0       0         0  109\n",
       "1  900 W Harrison 2014-01-01 01:00:00        0       0         0  109\n",
       "2  900 W Harrison 2014-01-01 02:00:00        0       0         0  109\n",
       "3  900 W Harrison 2014-01-01 03:00:00        0       0         0  109\n",
       "4  900 W Harrison 2014-01-01 04:00:00        0       0         0  109"
      ]
     },
     "execution_count": 129,
     "metadata": {},
     "output_type": "execute_result"
    }
   ],
   "source": [
    "result.head()"
   ]
  },
  {
   "cell_type": "code",
   "execution_count": 131,
   "metadata": {
    "collapsed": true
   },
   "outputs": [],
   "source": [
    "#getting the divvy JSON file \n",
    "request= Request('http://www.divvybikes.com/stations/json')\n",
    "response = urlopen(request)\n",
    "api = response.read()\n",
    "api_data = json.loads(api)\n",
    "#json_normalize takes a dict or list of dicts and normalizes this semi-structured data into a flat table\n",
    "api_df = json_normalize(api_data['stationBeanList'])\n",
    "api_df = api_df[[\"id\", \"latitude\", \"longitude\", \"stationName\", \"totalDocks\"]]"
   ]
  },
  {
   "cell_type": "code",
   "execution_count": 132,
   "metadata": {
    "collapsed": false
   },
   "outputs": [
    {
     "data": {
      "text/html": [
       "<div>\n",
       "<table border=\"1\" class=\"dataframe\">\n",
       "  <thead>\n",
       "    <tr style=\"text-align: right;\">\n",
       "      <th></th>\n",
       "      <th>id</th>\n",
       "      <th>latitude</th>\n",
       "      <th>longitude</th>\n",
       "      <th>stationName</th>\n",
       "      <th>totalDocks</th>\n",
       "    </tr>\n",
       "  </thead>\n",
       "  <tbody>\n",
       "    <tr>\n",
       "      <th>0</th>\n",
       "      <td>2</td>\n",
       "      <td>41.872293</td>\n",
       "      <td>-87.624091</td>\n",
       "      <td>Michigan Ave &amp; Balbo Ave</td>\n",
       "      <td>35</td>\n",
       "    </tr>\n",
       "    <tr>\n",
       "      <th>1</th>\n",
       "      <td>3</td>\n",
       "      <td>41.867226</td>\n",
       "      <td>-87.615355</td>\n",
       "      <td>Shedd Aquarium</td>\n",
       "      <td>31</td>\n",
       "    </tr>\n",
       "    <tr>\n",
       "      <th>2</th>\n",
       "      <td>4</td>\n",
       "      <td>41.856268</td>\n",
       "      <td>-87.613348</td>\n",
       "      <td>Burnham Harbor</td>\n",
       "      <td>23</td>\n",
       "    </tr>\n",
       "    <tr>\n",
       "      <th>3</th>\n",
       "      <td>5</td>\n",
       "      <td>41.874053</td>\n",
       "      <td>-87.627716</td>\n",
       "      <td>State St &amp; Harrison St</td>\n",
       "      <td>23</td>\n",
       "    </tr>\n",
       "    <tr>\n",
       "      <th>4</th>\n",
       "      <td>6</td>\n",
       "      <td>41.885042</td>\n",
       "      <td>-87.612795</td>\n",
       "      <td>Dusable Harbor</td>\n",
       "      <td>31</td>\n",
       "    </tr>\n",
       "  </tbody>\n",
       "</table>\n",
       "</div>"
      ],
      "text/plain": [
       "   id   latitude  longitude               stationName  totalDocks\n",
       "0   2  41.872293 -87.624091  Michigan Ave & Balbo Ave          35\n",
       "1   3  41.867226 -87.615355            Shedd Aquarium          31\n",
       "2   4  41.856268 -87.613348            Burnham Harbor          23\n",
       "3   5  41.874053 -87.627716    State St & Harrison St          23\n",
       "4   6  41.885042 -87.612795            Dusable Harbor          31"
      ]
     },
     "execution_count": 132,
     "metadata": {},
     "output_type": "execute_result"
    }
   ],
   "source": [
    "api_df.head()"
   ]
  },
  {
   "cell_type": "code",
   "execution_count": 133,
   "metadata": {
    "collapsed": true
   },
   "outputs": [],
   "source": [
    "#the api columns are in unicode, so we need them in utf-8 string format for merge matching purposes\n",
    "api_df.columns = map(lambda x: x.encode('utf-8'), api_df.columns)\n",
    "#time to merge on id!\n",
    "bigresult = pd.merge(result, api_df, on='id')"
   ]
  },
  {
   "cell_type": "code",
   "execution_count": 135,
   "metadata": {
    "collapsed": false
   },
   "outputs": [],
   "source": [
    "#dropping the extra stationName column\n",
    "bigresult.drop(bigresult.columns[[-2]], axis = 1, inplace = True)"
   ]
  },
  {
   "cell_type": "code",
   "execution_count": 138,
   "metadata": {
    "collapsed": false
   },
   "outputs": [
    {
     "data": {
      "text/html": [
       "<div>\n",
       "<table border=\"1\" class=\"dataframe\">\n",
       "  <thead>\n",
       "    <tr style=\"text-align: right;\">\n",
       "      <th></th>\n",
       "      <th>station_name</th>\n",
       "      <th>hourly_time</th>\n",
       "      <th>outflow</th>\n",
       "      <th>inflow</th>\n",
       "      <th>flowdiff</th>\n",
       "      <th>id</th>\n",
       "      <th>latitude</th>\n",
       "      <th>longitude</th>\n",
       "      <th>totalDocks</th>\n",
       "    </tr>\n",
       "  </thead>\n",
       "  <tbody>\n",
       "    <tr>\n",
       "      <th>0</th>\n",
       "      <td>900 W Harrison</td>\n",
       "      <td>2014-01-01 00:00:00</td>\n",
       "      <td>0</td>\n",
       "      <td>0</td>\n",
       "      <td>0</td>\n",
       "      <td>109</td>\n",
       "      <td>41.874675</td>\n",
       "      <td>-87.650019</td>\n",
       "      <td>19</td>\n",
       "    </tr>\n",
       "    <tr>\n",
       "      <th>1</th>\n",
       "      <td>900 W Harrison</td>\n",
       "      <td>2014-01-01 01:00:00</td>\n",
       "      <td>0</td>\n",
       "      <td>0</td>\n",
       "      <td>0</td>\n",
       "      <td>109</td>\n",
       "      <td>41.874675</td>\n",
       "      <td>-87.650019</td>\n",
       "      <td>19</td>\n",
       "    </tr>\n",
       "    <tr>\n",
       "      <th>2</th>\n",
       "      <td>900 W Harrison</td>\n",
       "      <td>2014-01-01 02:00:00</td>\n",
       "      <td>0</td>\n",
       "      <td>0</td>\n",
       "      <td>0</td>\n",
       "      <td>109</td>\n",
       "      <td>41.874675</td>\n",
       "      <td>-87.650019</td>\n",
       "      <td>19</td>\n",
       "    </tr>\n",
       "    <tr>\n",
       "      <th>3</th>\n",
       "      <td>900 W Harrison</td>\n",
       "      <td>2014-01-01 03:00:00</td>\n",
       "      <td>0</td>\n",
       "      <td>0</td>\n",
       "      <td>0</td>\n",
       "      <td>109</td>\n",
       "      <td>41.874675</td>\n",
       "      <td>-87.650019</td>\n",
       "      <td>19</td>\n",
       "    </tr>\n",
       "    <tr>\n",
       "      <th>4</th>\n",
       "      <td>900 W Harrison</td>\n",
       "      <td>2014-01-01 04:00:00</td>\n",
       "      <td>0</td>\n",
       "      <td>0</td>\n",
       "      <td>0</td>\n",
       "      <td>109</td>\n",
       "      <td>41.874675</td>\n",
       "      <td>-87.650019</td>\n",
       "      <td>19</td>\n",
       "    </tr>\n",
       "  </tbody>\n",
       "</table>\n",
       "</div>"
      ],
      "text/plain": [
       "     station_name         hourly_time  outflow  inflow  flowdiff   id  \\\n",
       "0  900 W Harrison 2014-01-01 00:00:00        0       0         0  109   \n",
       "1  900 W Harrison 2014-01-01 01:00:00        0       0         0  109   \n",
       "2  900 W Harrison 2014-01-01 02:00:00        0       0         0  109   \n",
       "3  900 W Harrison 2014-01-01 03:00:00        0       0         0  109   \n",
       "4  900 W Harrison 2014-01-01 04:00:00        0       0         0  109   \n",
       "\n",
       "    latitude  longitude  totalDocks  \n",
       "0  41.874675 -87.650019          19  \n",
       "1  41.874675 -87.650019          19  \n",
       "2  41.874675 -87.650019          19  \n",
       "3  41.874675 -87.650019          19  \n",
       "4  41.874675 -87.650019          19  "
      ]
     },
     "execution_count": 138,
     "metadata": {},
     "output_type": "execute_result"
    }
   ],
   "source": [
    "bigresult.head()"
   ]
  },
  {
   "cell_type": "code",
   "execution_count": 144,
   "metadata": {
    "collapsed": false
   },
   "outputs": [
    {
     "name": "stdout",
     "output_type": "stream",
     "text": [
      "Done here.\n"
     ]
    }
   ],
   "source": [
    "#creating extra predictor variables.\n",
    "\n",
    "bigresult['dayofwk'] = bigresult['hourly_time'].apply(lambda x: calendar.day_name[x.weekday()])\n",
    "bigresult['hour'] = bigresult['hourly_time'].apply(lambda x: x.hour)\n",
    "\n",
    "print 'Done here.'"
   ]
  },
  {
   "cell_type": "code",
   "execution_count": 145,
   "metadata": {
    "collapsed": false
   },
   "outputs": [
    {
     "name": "stdout",
     "output_type": "stream",
     "text": [
      "Done here.\n"
     ]
    }
   ],
   "source": [
    "#Reading in the weather data to append to our bigresult dataframe.\n",
    "\n",
    "weather_df = pd.read_csv(\"2014weatherinfo.csv\", sep = ',')\n",
    "print 'Done here.'"
   ]
  },
  {
   "cell_type": "code",
   "execution_count": 147,
   "metadata": {
    "collapsed": false
   },
   "outputs": [
    {
     "data": {
      "text/plain": [
       "(8808, 3)"
      ]
     },
     "execution_count": 147,
     "metadata": {},
     "output_type": "execute_result"
    }
   ],
   "source": [
    "weather_df.shape"
   ]
  },
  {
   "cell_type": "code",
   "execution_count": 152,
   "metadata": {
    "collapsed": false
   },
   "outputs": [],
   "source": [
    "weather_df = weather_df.rename(columns = {'Unnamed: 0':'hourly'})"
   ]
  },
  {
   "cell_type": "code",
   "execution_count": 166,
   "metadata": {
    "collapsed": true
   },
   "outputs": [],
   "source": [
    "#new hourbinner function that gets rid of the tzinfo parameter\n",
    "def tz_hourbinner(fulltime):\n",
    "    return dateutil.parser.parse(fulltime).replace(minute=0, second=0, tzinfo=None)"
   ]
  },
  {
   "cell_type": "code",
   "execution_count": 176,
   "metadata": {
    "collapsed": false
   },
   "outputs": [],
   "source": [
    "weather_df.hourly = weather_df.hourly.apply(lambda x: tz_hourbinner(x))"
   ]
  },
  {
   "cell_type": "code",
   "execution_count": 179,
   "metadata": {
    "collapsed": false
   },
   "outputs": [
    {
     "name": "stdout",
     "output_type": "stream",
     "text": [
      "<class 'pandas.tslib.Timestamp'>\n"
     ]
    }
   ],
   "source": [
    "print type(weather_df.hourly[0])"
   ]
  },
  {
   "cell_type": "code",
   "execution_count": 185,
   "metadata": {
    "collapsed": false
   },
   "outputs": [
    {
     "data": {
      "text/html": [
       "<div>\n",
       "<table border=\"1\" class=\"dataframe\">\n",
       "  <thead>\n",
       "    <tr style=\"text-align: right;\">\n",
       "      <th></th>\n",
       "      <th>station_name</th>\n",
       "      <th>hourly_time</th>\n",
       "      <th>outflow</th>\n",
       "      <th>inflow</th>\n",
       "      <th>flowdiff</th>\n",
       "      <th>id</th>\n",
       "      <th>latitude</th>\n",
       "      <th>longitude</th>\n",
       "      <th>totalDocks</th>\n",
       "      <th>flux</th>\n",
       "      <th>dayofwk</th>\n",
       "      <th>hour</th>\n",
       "    </tr>\n",
       "  </thead>\n",
       "  <tbody>\n",
       "    <tr>\n",
       "      <th>0</th>\n",
       "      <td>900 W Harrison</td>\n",
       "      <td>2014-01-01 00:00:00</td>\n",
       "      <td>0</td>\n",
       "      <td>0</td>\n",
       "      <td>0</td>\n",
       "      <td>109</td>\n",
       "      <td>41.874675</td>\n",
       "      <td>-87.650019</td>\n",
       "      <td>19</td>\n",
       "      <td>0</td>\n",
       "      <td>Wednesday</td>\n",
       "      <td>0</td>\n",
       "    </tr>\n",
       "    <tr>\n",
       "      <th>1</th>\n",
       "      <td>900 W Harrison</td>\n",
       "      <td>2014-01-01 01:00:00</td>\n",
       "      <td>0</td>\n",
       "      <td>0</td>\n",
       "      <td>0</td>\n",
       "      <td>109</td>\n",
       "      <td>41.874675</td>\n",
       "      <td>-87.650019</td>\n",
       "      <td>19</td>\n",
       "      <td>0</td>\n",
       "      <td>Wednesday</td>\n",
       "      <td>1</td>\n",
       "    </tr>\n",
       "    <tr>\n",
       "      <th>2</th>\n",
       "      <td>900 W Harrison</td>\n",
       "      <td>2014-01-01 02:00:00</td>\n",
       "      <td>0</td>\n",
       "      <td>0</td>\n",
       "      <td>0</td>\n",
       "      <td>109</td>\n",
       "      <td>41.874675</td>\n",
       "      <td>-87.650019</td>\n",
       "      <td>19</td>\n",
       "      <td>0</td>\n",
       "      <td>Wednesday</td>\n",
       "      <td>2</td>\n",
       "    </tr>\n",
       "    <tr>\n",
       "      <th>3</th>\n",
       "      <td>900 W Harrison</td>\n",
       "      <td>2014-01-01 03:00:00</td>\n",
       "      <td>0</td>\n",
       "      <td>0</td>\n",
       "      <td>0</td>\n",
       "      <td>109</td>\n",
       "      <td>41.874675</td>\n",
       "      <td>-87.650019</td>\n",
       "      <td>19</td>\n",
       "      <td>0</td>\n",
       "      <td>Wednesday</td>\n",
       "      <td>3</td>\n",
       "    </tr>\n",
       "    <tr>\n",
       "      <th>4</th>\n",
       "      <td>900 W Harrison</td>\n",
       "      <td>2014-01-01 04:00:00</td>\n",
       "      <td>0</td>\n",
       "      <td>0</td>\n",
       "      <td>0</td>\n",
       "      <td>109</td>\n",
       "      <td>41.874675</td>\n",
       "      <td>-87.650019</td>\n",
       "      <td>19</td>\n",
       "      <td>0</td>\n",
       "      <td>Wednesday</td>\n",
       "      <td>4</td>\n",
       "    </tr>\n",
       "  </tbody>\n",
       "</table>\n",
       "</div>"
      ],
      "text/plain": [
       "     station_name         hourly_time  outflow  inflow  flowdiff   id  \\\n",
       "0  900 W Harrison 2014-01-01 00:00:00        0       0         0  109   \n",
       "1  900 W Harrison 2014-01-01 01:00:00        0       0         0  109   \n",
       "2  900 W Harrison 2014-01-01 02:00:00        0       0         0  109   \n",
       "3  900 W Harrison 2014-01-01 03:00:00        0       0         0  109   \n",
       "4  900 W Harrison 2014-01-01 04:00:00        0       0         0  109   \n",
       "\n",
       "    latitude  longitude  totalDocks  flux    dayofwk  hour  \n",
       "0  41.874675 -87.650019          19     0  Wednesday     0  \n",
       "1  41.874675 -87.650019          19     0  Wednesday     1  \n",
       "2  41.874675 -87.650019          19     0  Wednesday     2  \n",
       "3  41.874675 -87.650019          19     0  Wednesday     3  \n",
       "4  41.874675 -87.650019          19     0  Wednesday     4  "
      ]
     },
     "execution_count": 185,
     "metadata": {},
     "output_type": "execute_result"
    }
   ],
   "source": [
    "bigresult.head()"
   ]
  },
  {
   "cell_type": "code",
   "execution_count": 186,
   "metadata": {
    "collapsed": false
   },
   "outputs": [
    {
     "data": {
      "text/html": [
       "<div>\n",
       "<table border=\"1\" class=\"dataframe\">\n",
       "  <thead>\n",
       "    <tr style=\"text-align: right;\">\n",
       "      <th></th>\n",
       "      <th>hourly</th>\n",
       "      <th>summary</th>\n",
       "      <th>temperature</th>\n",
       "    </tr>\n",
       "  </thead>\n",
       "  <tbody>\n",
       "    <tr>\n",
       "      <th>0</th>\n",
       "      <td>2013-12-31 00:00:00</td>\n",
       "      <td>Overcast</td>\n",
       "      <td>10.69</td>\n",
       "    </tr>\n",
       "    <tr>\n",
       "      <th>1</th>\n",
       "      <td>2013-12-31 01:00:00</td>\n",
       "      <td>Light Snow</td>\n",
       "      <td>10.07</td>\n",
       "    </tr>\n",
       "    <tr>\n",
       "      <th>2</th>\n",
       "      <td>2013-12-31 02:00:00</td>\n",
       "      <td>Clear</td>\n",
       "      <td>9.30</td>\n",
       "    </tr>\n",
       "    <tr>\n",
       "      <th>3</th>\n",
       "      <td>2013-12-31 03:00:00</td>\n",
       "      <td>Clear</td>\n",
       "      <td>7.93</td>\n",
       "    </tr>\n",
       "    <tr>\n",
       "      <th>4</th>\n",
       "      <td>2013-12-31 04:00:00</td>\n",
       "      <td>Clear</td>\n",
       "      <td>7.32</td>\n",
       "    </tr>\n",
       "  </tbody>\n",
       "</table>\n",
       "</div>"
      ],
      "text/plain": [
       "               hourly     summary  temperature\n",
       "0 2013-12-31 00:00:00    Overcast        10.69\n",
       "1 2013-12-31 01:00:00  Light Snow        10.07\n",
       "2 2013-12-31 02:00:00       Clear         9.30\n",
       "3 2013-12-31 03:00:00       Clear         7.93\n",
       "4 2013-12-31 04:00:00       Clear         7.32"
      ]
     },
     "execution_count": 186,
     "metadata": {},
     "output_type": "execute_result"
    }
   ],
   "source": [
    "weather_df.head()"
   ]
  },
  {
   "cell_type": "code",
   "execution_count": 188,
   "metadata": {
    "collapsed": true
   },
   "outputs": [],
   "source": [
    "weather_df = weather_df.rename(columns = {'hourly':'hourly_time'})"
   ]
  },
  {
   "cell_type": "code",
   "execution_count": 207,
   "metadata": {
    "collapsed": false
   },
   "outputs": [
    {
     "name": "stdout",
     "output_type": "stream",
     "text": [
      "Done here.\n"
     ]
    }
   ],
   "source": [
    "#merging those two dataframes on the common hourly_time column to create ... the big kahuna.\n",
    "\n",
    "bigkahuna = pd.merge(bigresult, weather_df, on=\"hourly_time\")\n",
    "print 'Done here.'"
   ]
  },
  {
   "cell_type": "code",
   "execution_count": 216,
   "metadata": {
    "collapsed": false
   },
   "outputs": [],
   "source": [
    "#sorting by station_name and then hourly_time, and then resetting the index\n",
    "\n",
    "bigkahuna = bigkahuna.sort(['station_name', 'hourly_time']).reset_index(drop=True)"
   ]
  },
  {
   "cell_type": "code",
   "execution_count": 217,
   "metadata": {
    "collapsed": false
   },
   "outputs": [
    {
     "data": {
      "text/html": [
       "<div>\n",
       "<table border=\"1\" class=\"dataframe\">\n",
       "  <thead>\n",
       "    <tr style=\"text-align: right;\">\n",
       "      <th></th>\n",
       "      <th>station_name</th>\n",
       "      <th>hourly_time</th>\n",
       "      <th>outflow</th>\n",
       "      <th>inflow</th>\n",
       "      <th>flowdiff</th>\n",
       "      <th>id</th>\n",
       "      <th>latitude</th>\n",
       "      <th>longitude</th>\n",
       "      <th>totalDocks</th>\n",
       "      <th>flux</th>\n",
       "      <th>dayofwk</th>\n",
       "      <th>hour</th>\n",
       "      <th>summary</th>\n",
       "      <th>temperature</th>\n",
       "    </tr>\n",
       "  </thead>\n",
       "  <tbody>\n",
       "    <tr>\n",
       "      <th>0</th>\n",
       "      <td>900 W Harrison</td>\n",
       "      <td>2014-01-01 00:00:00</td>\n",
       "      <td>0</td>\n",
       "      <td>0</td>\n",
       "      <td>0</td>\n",
       "      <td>109</td>\n",
       "      <td>41.874675</td>\n",
       "      <td>-87.650019</td>\n",
       "      <td>19</td>\n",
       "      <td>0</td>\n",
       "      <td>Wednesday</td>\n",
       "      <td>0</td>\n",
       "      <td>Overcast</td>\n",
       "      <td>16.24</td>\n",
       "    </tr>\n",
       "    <tr>\n",
       "      <th>1</th>\n",
       "      <td>900 W Harrison</td>\n",
       "      <td>2014-01-01 01:00:00</td>\n",
       "      <td>0</td>\n",
       "      <td>0</td>\n",
       "      <td>0</td>\n",
       "      <td>109</td>\n",
       "      <td>41.874675</td>\n",
       "      <td>-87.650019</td>\n",
       "      <td>19</td>\n",
       "      <td>0</td>\n",
       "      <td>Wednesday</td>\n",
       "      <td>1</td>\n",
       "      <td>Clear</td>\n",
       "      <td>17.76</td>\n",
       "    </tr>\n",
       "    <tr>\n",
       "      <th>2</th>\n",
       "      <td>900 W Harrison</td>\n",
       "      <td>2014-01-01 02:00:00</td>\n",
       "      <td>0</td>\n",
       "      <td>0</td>\n",
       "      <td>0</td>\n",
       "      <td>109</td>\n",
       "      <td>41.874675</td>\n",
       "      <td>-87.650019</td>\n",
       "      <td>19</td>\n",
       "      <td>0</td>\n",
       "      <td>Wednesday</td>\n",
       "      <td>2</td>\n",
       "      <td>Clear</td>\n",
       "      <td>19.20</td>\n",
       "    </tr>\n",
       "    <tr>\n",
       "      <th>3</th>\n",
       "      <td>900 W Harrison</td>\n",
       "      <td>2014-01-01 03:00:00</td>\n",
       "      <td>0</td>\n",
       "      <td>0</td>\n",
       "      <td>0</td>\n",
       "      <td>109</td>\n",
       "      <td>41.874675</td>\n",
       "      <td>-87.650019</td>\n",
       "      <td>19</td>\n",
       "      <td>0</td>\n",
       "      <td>Wednesday</td>\n",
       "      <td>3</td>\n",
       "      <td>Overcast</td>\n",
       "      <td>19.72</td>\n",
       "    </tr>\n",
       "    <tr>\n",
       "      <th>4</th>\n",
       "      <td>900 W Harrison</td>\n",
       "      <td>2014-01-01 04:00:00</td>\n",
       "      <td>0</td>\n",
       "      <td>0</td>\n",
       "      <td>0</td>\n",
       "      <td>109</td>\n",
       "      <td>41.874675</td>\n",
       "      <td>-87.650019</td>\n",
       "      <td>19</td>\n",
       "      <td>0</td>\n",
       "      <td>Wednesday</td>\n",
       "      <td>4</td>\n",
       "      <td>Clear</td>\n",
       "      <td>20.05</td>\n",
       "    </tr>\n",
       "  </tbody>\n",
       "</table>\n",
       "</div>"
      ],
      "text/plain": [
       "     station_name         hourly_time  outflow  inflow  flowdiff   id  \\\n",
       "0  900 W Harrison 2014-01-01 00:00:00        0       0         0  109   \n",
       "1  900 W Harrison 2014-01-01 01:00:00        0       0         0  109   \n",
       "2  900 W Harrison 2014-01-01 02:00:00        0       0         0  109   \n",
       "3  900 W Harrison 2014-01-01 03:00:00        0       0         0  109   \n",
       "4  900 W Harrison 2014-01-01 04:00:00        0       0         0  109   \n",
       "\n",
       "    latitude  longitude  totalDocks  flux    dayofwk  hour   summary  \\\n",
       "0  41.874675 -87.650019          19     0  Wednesday     0  Overcast   \n",
       "1  41.874675 -87.650019          19     0  Wednesday     1     Clear   \n",
       "2  41.874675 -87.650019          19     0  Wednesday     2     Clear   \n",
       "3  41.874675 -87.650019          19     0  Wednesday     3  Overcast   \n",
       "4  41.874675 -87.650019          19     0  Wednesday     4     Clear   \n",
       "\n",
       "   temperature  \n",
       "0        16.24  \n",
       "1        17.76  \n",
       "2        19.20  \n",
       "3        19.72  \n",
       "4        20.05  "
      ]
     },
     "execution_count": 217,
     "metadata": {},
     "output_type": "execute_result"
    }
   ],
   "source": [
    "bigkahuna.head()"
   ]
  },
  {
   "cell_type": "code",
   "execution_count": 218,
   "metadata": {
    "collapsed": false
   },
   "outputs": [
    {
     "data": {
      "text/plain": [
       "(2717207, 14)"
      ]
     },
     "execution_count": 218,
     "metadata": {},
     "output_type": "execute_result"
    }
   ],
   "source": [
    "bigkahuna.shape"
   ]
  },
  {
   "cell_type": "code",
   "execution_count": 219,
   "metadata": {
    "collapsed": false
   },
   "outputs": [
    {
     "name": "stdout",
     "output_type": "stream",
     "text": [
      "Done here.\n"
     ]
    }
   ],
   "source": [
    "#adding a flux column that categorizes both excessive inflow and outflow based on a threshold percentage \n",
    "#calculated on flowdiff/totalDocks for each station. (Done for every hour, as our dataframe is)\n",
    "\n",
    "bigkahuna['flux'] = 0\n",
    "bigkahuna.loc[(bigkahuna['flowdiff'] > 0) & (bigkahuna.flowdiff.abs() > (bigkahuna.totalDocks * 0.2)), 'flux'] = 1\n",
    "bigkahuna.loc[(bigkahuna['flowdiff'] < 0) & (bigkahuna.flowdiff.abs() > (bigkahuna.totalDocks * 0.2)), 'flux'] = 2\n",
    "print 'Done here.'"
   ]
  },
  {
   "cell_type": "code",
   "execution_count": 220,
   "metadata": {
    "collapsed": false
   },
   "outputs": [
    {
     "data": {
      "text/plain": [
       "0    2608138\n",
       "1      55289\n",
       "2      53780\n",
       "dtype: int64"
      ]
     },
     "execution_count": 220,
     "metadata": {},
     "output_type": "execute_result"
    }
   ],
   "source": [
    "bigkahuna['flux'].value_counts()"
   ]
  },
  {
   "cell_type": "code",
   "execution_count": 142,
   "metadata": {
    "collapsed": false
   },
   "outputs": [
    {
     "data": {
      "text/plain": [
       "0.9598598855368766"
      ]
     },
     "execution_count": 142,
     "metadata": {},
     "output_type": "execute_result"
    }
   ],
   "source": [
    "1.0 - ((55289+53780)/(55289+53780+2608138.0))\n",
    "\n",
    "# 0.959859 is our baseline stupid prediction of all 0s."
   ]
  },
  {
   "cell_type": "code",
   "execution_count": 222,
   "metadata": {
    "collapsed": false
   },
   "outputs": [
    {
     "name": "stdout",
     "output_type": "stream",
     "text": [
      "Done here.\n"
     ]
    }
   ],
   "source": [
    "#turning into design matrices and making sure the hour is taken in as a categorical variable.\n",
    "y, X = dmatrices('flux ~ station_name + dayofwk + C(hour) + summary + temperature', data=bigkahuna, return_type='dataframe')\n",
    "\n",
    "print 'Done here.'"
   ]
  },
  {
   "cell_type": "code",
   "execution_count": 224,
   "metadata": {
    "collapsed": true
   },
   "outputs": [],
   "source": [
    "X_train, X_test, y_train, y_test = train_test_split(X, y, test_size=0.25, random_state=1)"
   ]
  },
  {
   "cell_type": "code",
   "execution_count": 225,
   "metadata": {
    "collapsed": false
   },
   "outputs": [
    {
     "data": {
      "text/html": [
       "<div>\n",
       "<table border=\"1\" class=\"dataframe\">\n",
       "  <thead>\n",
       "    <tr style=\"text-align: right;\">\n",
       "      <th></th>\n",
       "      <th>Intercept</th>\n",
       "      <th>station_name[T.Aberdeen St &amp; Jackson Blvd]</th>\n",
       "      <th>station_name[T.Aberdeen St &amp; Madison St]</th>\n",
       "      <th>station_name[T.Ada St &amp; Washington Blvd]</th>\n",
       "      <th>station_name[T.Adler Planetarium]</th>\n",
       "      <th>station_name[T.Ashland Ave &amp; 13th St]</th>\n",
       "      <th>station_name[T.Ashland Ave &amp; 21st St]</th>\n",
       "      <th>station_name[T.Ashland Ave &amp; Augusta Blvd]</th>\n",
       "      <th>station_name[T.Ashland Ave &amp; Belle Plaine Ave]</th>\n",
       "      <th>station_name[T.Ashland Ave &amp; Blackhawk St]</th>\n",
       "      <th>...</th>\n",
       "      <th>summary[T.Snow (22–37 in.) and Windy]</th>\n",
       "      <th>summary[T.Snow (Under 1 in.)]</th>\n",
       "      <th>summary[T.Snow (Under 1 in.) and Breezy]</th>\n",
       "      <th>summary[T.Snow (Under 1 in.) and Windy]</th>\n",
       "      <th>summary[T.Snow and Windy]</th>\n",
       "      <th>summary[T.Windy]</th>\n",
       "      <th>summary[T.Windy and Mostly Cloudy]</th>\n",
       "      <th>summary[T.Windy and Overcast]</th>\n",
       "      <th>summary[T.Windy and Partly Cloudy]</th>\n",
       "      <th>temperature</th>\n",
       "    </tr>\n",
       "  </thead>\n",
       "  <tbody>\n",
       "    <tr>\n",
       "      <th>430586</th>\n",
       "      <td>1</td>\n",
       "      <td>0</td>\n",
       "      <td>0</td>\n",
       "      <td>0</td>\n",
       "      <td>0</td>\n",
       "      <td>0</td>\n",
       "      <td>0</td>\n",
       "      <td>0</td>\n",
       "      <td>0</td>\n",
       "      <td>0</td>\n",
       "      <td>...</td>\n",
       "      <td>0</td>\n",
       "      <td>0</td>\n",
       "      <td>0</td>\n",
       "      <td>0</td>\n",
       "      <td>0</td>\n",
       "      <td>0</td>\n",
       "      <td>0</td>\n",
       "      <td>0</td>\n",
       "      <td>0</td>\n",
       "      <td>62.63</td>\n",
       "    </tr>\n",
       "    <tr>\n",
       "      <th>397959</th>\n",
       "      <td>1</td>\n",
       "      <td>0</td>\n",
       "      <td>0</td>\n",
       "      <td>0</td>\n",
       "      <td>0</td>\n",
       "      <td>0</td>\n",
       "      <td>0</td>\n",
       "      <td>0</td>\n",
       "      <td>0</td>\n",
       "      <td>0</td>\n",
       "      <td>...</td>\n",
       "      <td>0</td>\n",
       "      <td>0</td>\n",
       "      <td>0</td>\n",
       "      <td>0</td>\n",
       "      <td>0</td>\n",
       "      <td>0</td>\n",
       "      <td>0</td>\n",
       "      <td>0</td>\n",
       "      <td>0</td>\n",
       "      <td>73.76</td>\n",
       "    </tr>\n",
       "    <tr>\n",
       "      <th>1110210</th>\n",
       "      <td>1</td>\n",
       "      <td>0</td>\n",
       "      <td>0</td>\n",
       "      <td>0</td>\n",
       "      <td>0</td>\n",
       "      <td>0</td>\n",
       "      <td>0</td>\n",
       "      <td>0</td>\n",
       "      <td>0</td>\n",
       "      <td>0</td>\n",
       "      <td>...</td>\n",
       "      <td>0</td>\n",
       "      <td>0</td>\n",
       "      <td>0</td>\n",
       "      <td>0</td>\n",
       "      <td>0</td>\n",
       "      <td>0</td>\n",
       "      <td>0</td>\n",
       "      <td>0</td>\n",
       "      <td>0</td>\n",
       "      <td>23.79</td>\n",
       "    </tr>\n",
       "    <tr>\n",
       "      <th>2160007</th>\n",
       "      <td>1</td>\n",
       "      <td>0</td>\n",
       "      <td>0</td>\n",
       "      <td>0</td>\n",
       "      <td>0</td>\n",
       "      <td>0</td>\n",
       "      <td>0</td>\n",
       "      <td>0</td>\n",
       "      <td>0</td>\n",
       "      <td>0</td>\n",
       "      <td>...</td>\n",
       "      <td>0</td>\n",
       "      <td>0</td>\n",
       "      <td>0</td>\n",
       "      <td>0</td>\n",
       "      <td>0</td>\n",
       "      <td>0</td>\n",
       "      <td>0</td>\n",
       "      <td>0</td>\n",
       "      <td>0</td>\n",
       "      <td>22.23</td>\n",
       "    </tr>\n",
       "    <tr>\n",
       "      <th>1848597</th>\n",
       "      <td>1</td>\n",
       "      <td>0</td>\n",
       "      <td>0</td>\n",
       "      <td>0</td>\n",
       "      <td>0</td>\n",
       "      <td>0</td>\n",
       "      <td>0</td>\n",
       "      <td>0</td>\n",
       "      <td>0</td>\n",
       "      <td>0</td>\n",
       "      <td>...</td>\n",
       "      <td>0</td>\n",
       "      <td>0</td>\n",
       "      <td>0</td>\n",
       "      <td>0</td>\n",
       "      <td>0</td>\n",
       "      <td>0</td>\n",
       "      <td>0</td>\n",
       "      <td>0</td>\n",
       "      <td>0</td>\n",
       "      <td>68.88</td>\n",
       "    </tr>\n",
       "  </tbody>\n",
       "</table>\n",
       "<p>5 rows × 382 columns</p>\n",
       "</div>"
      ],
      "text/plain": [
       "         Intercept  station_name[T.Aberdeen St & Jackson Blvd]  \\\n",
       "430586           1                                           0   \n",
       "397959           1                                           0   \n",
       "1110210          1                                           0   \n",
       "2160007          1                                           0   \n",
       "1848597          1                                           0   \n",
       "\n",
       "         station_name[T.Aberdeen St & Madison St]  \\\n",
       "430586                                          0   \n",
       "397959                                          0   \n",
       "1110210                                         0   \n",
       "2160007                                         0   \n",
       "1848597                                         0   \n",
       "\n",
       "         station_name[T.Ada St & Washington Blvd]  \\\n",
       "430586                                          0   \n",
       "397959                                          0   \n",
       "1110210                                         0   \n",
       "2160007                                         0   \n",
       "1848597                                         0   \n",
       "\n",
       "         station_name[T.Adler Planetarium]  \\\n",
       "430586                                   0   \n",
       "397959                                   0   \n",
       "1110210                                  0   \n",
       "2160007                                  0   \n",
       "1848597                                  0   \n",
       "\n",
       "         station_name[T.Ashland Ave & 13th St]  \\\n",
       "430586                                       0   \n",
       "397959                                       0   \n",
       "1110210                                      0   \n",
       "2160007                                      0   \n",
       "1848597                                      0   \n",
       "\n",
       "         station_name[T.Ashland Ave & 21st St]  \\\n",
       "430586                                       0   \n",
       "397959                                       0   \n",
       "1110210                                      0   \n",
       "2160007                                      0   \n",
       "1848597                                      0   \n",
       "\n",
       "         station_name[T.Ashland Ave & Augusta Blvd]  \\\n",
       "430586                                            0   \n",
       "397959                                            0   \n",
       "1110210                                           0   \n",
       "2160007                                           0   \n",
       "1848597                                           0   \n",
       "\n",
       "         station_name[T.Ashland Ave & Belle Plaine Ave]  \\\n",
       "430586                                                0   \n",
       "397959                                                0   \n",
       "1110210                                               0   \n",
       "2160007                                               0   \n",
       "1848597                                               0   \n",
       "\n",
       "         station_name[T.Ashland Ave & Blackhawk St]     ...       \\\n",
       "430586                                            0     ...        \n",
       "397959                                            0     ...        \n",
       "1110210                                           0     ...        \n",
       "2160007                                           0     ...        \n",
       "1848597                                           0     ...        \n",
       "\n",
       "         summary[T.Snow (22–37 in.) and Windy]  summary[T.Snow (Under 1 in.)]  \\\n",
       "430586                                       0                              0   \n",
       "397959                                       0                              0   \n",
       "1110210                                      0                              0   \n",
       "2160007                                      0                              0   \n",
       "1848597                                      0                              0   \n",
       "\n",
       "         summary[T.Snow (Under 1 in.) and Breezy]  \\\n",
       "430586                                          0   \n",
       "397959                                          0   \n",
       "1110210                                         0   \n",
       "2160007                                         0   \n",
       "1848597                                         0   \n",
       "\n",
       "         summary[T.Snow (Under 1 in.) and Windy]  summary[T.Snow and Windy]  \\\n",
       "430586                                         0                          0   \n",
       "397959                                         0                          0   \n",
       "1110210                                        0                          0   \n",
       "2160007                                        0                          0   \n",
       "1848597                                        0                          0   \n",
       "\n",
       "         summary[T.Windy]  summary[T.Windy and Mostly Cloudy]  \\\n",
       "430586                  0                                   0   \n",
       "397959                  0                                   0   \n",
       "1110210                 0                                   0   \n",
       "2160007                 0                                   0   \n",
       "1848597                 0                                   0   \n",
       "\n",
       "         summary[T.Windy and Overcast]  summary[T.Windy and Partly Cloudy]  \\\n",
       "430586                               0                                   0   \n",
       "397959                               0                                   0   \n",
       "1110210                              0                                   0   \n",
       "2160007                              0                                   0   \n",
       "1848597                              0                                   0   \n",
       "\n",
       "         temperature  \n",
       "430586         62.63  \n",
       "397959         73.76  \n",
       "1110210        23.79  \n",
       "2160007        22.23  \n",
       "1848597        68.88  \n",
       "\n",
       "[5 rows x 382 columns]"
      ]
     },
     "execution_count": 225,
     "metadata": {},
     "output_type": "execute_result"
    }
   ],
   "source": [
    "X_train.head()"
   ]
  },
  {
   "cell_type": "code",
   "execution_count": null,
   "metadata": {
    "collapsed": true
   },
   "outputs": [],
   "source": [
    "estimators = [LogisticRegression(), GaussianNB(), SVC(probability = True), DecisionTreeClassifier(),\n",
    "              RandomForestClassifier(n_jobs = -1), KNeighborsClassifier(n_neighbors=10), \n",
    "              GradientBoostingClassifier(learning_rate=0.4,  n_estimators=100, subsample=1.0, random_state=1, verbose=1)]\n",
    "\n",
    "names = ['Logistic Regression', 'Gaussian Naive Bayes', 'Support Vector Machine', 'Decision Tree', 'Random Forest',\n",
    "         'KNeighbors(10)', 'Gradient Boosting']\n",
    "\n",
    "for i, estimator in enumerate(estimators):\n",
    "    model = estimator.fit(X_train, y_train)\n",
    "    print names[i], \"has a test accuracy of\", model.score(X_test, y_test)"
   ]
  }
 ],
 "metadata": {
  "kernelspec": {
   "display_name": "Python 2",
   "language": "python",
   "name": "python2"
  },
  "language_info": {
   "codemirror_mode": {
    "name": "ipython",
    "version": 2
   },
   "file_extension": ".py",
   "mimetype": "text/x-python",
   "name": "python",
   "nbconvert_exporter": "python",
   "pygments_lexer": "ipython2",
   "version": "2.7.10"
  }
 },
 "nbformat": 4,
 "nbformat_minor": 0
}
