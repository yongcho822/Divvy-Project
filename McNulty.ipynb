{
 "cells": [
  {
   "cell_type": "code",
   "execution_count": 236,
   "metadata": {
    "collapsed": true
   },
   "outputs": [],
   "source": [
    "import matplotlib.pyplot as plt\n",
    "import pandas as pd\n",
    "import numpy as np\n",
    "import csv\n",
    "import dateutil.parser\n",
    "import json\n",
    "from urllib2 import Request, urlopen\n",
    "from pandas.io.json import json_normalize\n",
    "from pprint import pprint\n",
    "%matplotlib inline"
   ]
  },
  {
   "cell_type": "code",
   "execution_count": 5,
   "metadata": {
    "collapsed": true
   },
   "outputs": [],
   "source": [
    "divvy_df = pd.read_csv('Divvy_Trips_2014-Q3-07.csv', sep = ',')"
   ]
  },
  {
   "cell_type": "code",
   "execution_count": 209,
   "metadata": {
    "collapsed": false
   },
   "outputs": [
    {
     "data": {
      "text/html": [
       "<div>\n",
       "<table border=\"1\" class=\"dataframe\">\n",
       "  <thead>\n",
       "    <tr style=\"text-align: right;\">\n",
       "      <th></th>\n",
       "      <th>trip_id</th>\n",
       "      <th>starttime</th>\n",
       "      <th>stoptime</th>\n",
       "      <th>bikeid</th>\n",
       "      <th>tripduration</th>\n",
       "      <th>from_station_id</th>\n",
       "      <th>from_station_name</th>\n",
       "      <th>to_station_id</th>\n",
       "      <th>to_station_name</th>\n",
       "      <th>usertype</th>\n",
       "      <th>gender</th>\n",
       "      <th>birthyear</th>\n",
       "    </tr>\n",
       "  </thead>\n",
       "  <tbody>\n",
       "    <tr>\n",
       "      <th>0</th>\n",
       "      <td>2886259</td>\n",
       "      <td>7/31/2014 23:56</td>\n",
       "      <td>8/1/2014 0:03</td>\n",
       "      <td>2602</td>\n",
       "      <td>386</td>\n",
       "      <td>291</td>\n",
       "      <td>Wells St &amp; Evergreen Ave</td>\n",
       "      <td>53</td>\n",
       "      <td>Wells St &amp; Erie St</td>\n",
       "      <td>Subscriber</td>\n",
       "      <td>Female</td>\n",
       "      <td>1979</td>\n",
       "    </tr>\n",
       "    <tr>\n",
       "      <th>1</th>\n",
       "      <td>2886258</td>\n",
       "      <td>7/31/2014 23:58</td>\n",
       "      <td>8/1/2014 0:07</td>\n",
       "      <td>2403</td>\n",
       "      <td>495</td>\n",
       "      <td>98</td>\n",
       "      <td>LaSalle St &amp; Washington St</td>\n",
       "      <td>106</td>\n",
       "      <td>State St &amp; Pearson St</td>\n",
       "      <td>Subscriber</td>\n",
       "      <td>Male</td>\n",
       "      <td>1974</td>\n",
       "    </tr>\n",
       "    <tr>\n",
       "      <th>2</th>\n",
       "      <td>2886257</td>\n",
       "      <td>7/31/2014 23:58</td>\n",
       "      <td>8/1/2014 2:10</td>\n",
       "      <td>669</td>\n",
       "      <td>7947</td>\n",
       "      <td>240</td>\n",
       "      <td>Sheridan Rd &amp; Irving Park Rd</td>\n",
       "      <td>240</td>\n",
       "      <td>Sheridan Rd &amp; Irving Park Rd</td>\n",
       "      <td>Customer</td>\n",
       "      <td>NaN</td>\n",
       "      <td>NaN</td>\n",
       "    </tr>\n",
       "    <tr>\n",
       "      <th>3</th>\n",
       "      <td>2886256</td>\n",
       "      <td>7/31/2014 23:58</td>\n",
       "      <td>8/1/2014 0:19</td>\n",
       "      <td>2431</td>\n",
       "      <td>1282</td>\n",
       "      <td>47</td>\n",
       "      <td>State St &amp; Kinzie St</td>\n",
       "      <td>14</td>\n",
       "      <td>Morgan St &amp; 18th St</td>\n",
       "      <td>Customer</td>\n",
       "      <td>NaN</td>\n",
       "      <td>NaN</td>\n",
       "    </tr>\n",
       "    <tr>\n",
       "      <th>4</th>\n",
       "      <td>2886255</td>\n",
       "      <td>7/31/2014 23:57</td>\n",
       "      <td>8/1/2014 2:10</td>\n",
       "      <td>2885</td>\n",
       "      <td>7972</td>\n",
       "      <td>240</td>\n",
       "      <td>Sheridan Rd &amp; Irving Park Rd</td>\n",
       "      <td>240</td>\n",
       "      <td>Sheridan Rd &amp; Irving Park Rd</td>\n",
       "      <td>Customer</td>\n",
       "      <td>NaN</td>\n",
       "      <td>NaN</td>\n",
       "    </tr>\n",
       "  </tbody>\n",
       "</table>\n",
       "</div>"
      ],
      "text/plain": [
       "   trip_id        starttime       stoptime  bikeid  tripduration  \\\n",
       "0  2886259  7/31/2014 23:56  8/1/2014 0:03    2602           386   \n",
       "1  2886258  7/31/2014 23:58  8/1/2014 0:07    2403           495   \n",
       "2  2886257  7/31/2014 23:58  8/1/2014 2:10     669          7947   \n",
       "3  2886256  7/31/2014 23:58  8/1/2014 0:19    2431          1282   \n",
       "4  2886255  7/31/2014 23:57  8/1/2014 2:10    2885          7972   \n",
       "\n",
       "   from_station_id             from_station_name  to_station_id  \\\n",
       "0              291      Wells St & Evergreen Ave             53   \n",
       "1               98    LaSalle St & Washington St            106   \n",
       "2              240  Sheridan Rd & Irving Park Rd            240   \n",
       "3               47          State St & Kinzie St             14   \n",
       "4              240  Sheridan Rd & Irving Park Rd            240   \n",
       "\n",
       "                to_station_name    usertype  gender  birthyear  \n",
       "0            Wells St & Erie St  Subscriber  Female       1979  \n",
       "1         State St & Pearson St  Subscriber    Male       1974  \n",
       "2  Sheridan Rd & Irving Park Rd    Customer     NaN        NaN  \n",
       "3           Morgan St & 18th St    Customer     NaN        NaN  \n",
       "4  Sheridan Rd & Irving Park Rd    Customer     NaN        NaN  "
      ]
     },
     "execution_count": 209,
     "metadata": {},
     "output_type": "execute_result"
    }
   ],
   "source": [
    "divvy_df.head()"
   ]
  },
  {
   "cell_type": "code",
   "execution_count": 327,
   "metadata": {
    "collapsed": false
   },
   "outputs": [
    {
     "data": {
      "text/plain": [
       "count    410340.000000\n",
       "mean        161.966706\n",
       "std          99.753870\n",
       "min           5.000000\n",
       "25%          75.000000\n",
       "50%         154.000000\n",
       "75%         249.000000\n",
       "max         351.000000\n",
       "Name: from_station_id, dtype: float64"
      ]
     },
     "execution_count": 327,
     "metadata": {},
     "output_type": "execute_result"
    }
   ],
   "source": [
    "divvy_df['from_station_id'].describe()\n",
    "\n",
    "#there are 300 unique station IDs but the range is from 5 to 351"
   ]
  },
  {
   "cell_type": "code",
   "execution_count": 21,
   "metadata": {
    "collapsed": true
   },
   "outputs": [],
   "source": [
    "divvy_hr_df = divvy_df.copy(deep = True)"
   ]
  },
  {
   "cell_type": "code",
   "execution_count": 28,
   "metadata": {
    "collapsed": true
   },
   "outputs": [],
   "source": [
    "def hourbinner(fulltime):\n",
    "    return dateutil.parser.parse(fulltime).replace(minute=0, second=0)\n",
    "    \n",
    "# print dateutil.parser.parse('7/31/2014 23:58').replace(minute=0, second=0)"
   ]
  },
  {
   "cell_type": "code",
   "execution_count": 29,
   "metadata": {
    "collapsed": false
   },
   "outputs": [],
   "source": [
    "divvy_hr_df.starttime = divvy_hr_df.starttime.apply(lambda x: hourbinner(x))"
   ]
  },
  {
   "cell_type": "code",
   "execution_count": 32,
   "metadata": {
    "collapsed": false
   },
   "outputs": [],
   "source": [
    "divvy_hr_df.stoptime = divvy_hr_df.stoptime.apply(lambda x: hourbinner(x))"
   ]
  },
  {
   "cell_type": "code",
   "execution_count": 49,
   "metadata": {
    "collapsed": true
   },
   "outputs": [
    {
     "name": "stdout",
     "output_type": "stream",
     "text": [
      "from_station_name\n",
      "Streeter Dr & Illinois St       11149\n",
      "Lake Shore Dr & Monroe St        8533\n",
      "Theater on the Lake              8358\n",
      "Michigan Ave & Oak St            7338\n",
      "Lake Shore Dr & North Blvd       6872\n",
      "Millennium Park                  5560\n",
      "Clinton St & Washington Blvd     5237\n",
      "Canal St & Adams St              4840\n",
      "Columbus Dr & Randolph St        4672\n",
      "Museum Campus                    4670\n",
      "Canal St & Madison St            4336\n",
      "McClurg Ct & Illinois St         3889\n",
      "Michigan Ave & Washington St     3794\n",
      "Clark St & Elm St                3760\n",
      "Indiana Ave & Roosevelt Rd       3545\n",
      "Wells St & Concord Ln            3438\n",
      "Michigan Ave & Jackson Blvd      3339\n",
      "Daley Center Plaza               3228\n",
      "Franklin St & Arcade Pl          3211\n",
      "State St & Erie St               3208\n",
      "Lake Shore Dr & Ohio St          3179\n",
      "Dearborn St & Adams St           3177\n",
      "Michigan Ave & Lake St           3113\n",
      "Clark St & Lincoln Ave           3090\n",
      "Michigan Ave & Pearson St        3066\n",
      "State St & Kinzie St             3032\n",
      "Wabash Ave & Grand Ave           3026\n",
      "Clinton St & Madison St          2972\n",
      "Fairbanks Ct & Grand Ave         2941\n",
      "LaSalle St & Illinois St         2929\n",
      "                                ...  \n",
      "Morgan St & 31st St               266\n",
      "Stave St & Armitage Ave           263\n",
      "Wentworth Ave & 24th St           247\n",
      "Calumet Ave & 33rd St             240\n",
      "Greenwood Ave & 47th St           233\n",
      "Western Ave & 21st St             229\n",
      "Halsted St & 21st St              222\n",
      "Halsted St & 35th St              212\n",
      "Normal Ave & Archer Ave           203\n",
      "Prairie Ave & Garfield Blvd       197\n",
      "Claremont Ave & Hirsch St         194\n",
      "Damen Ave & Cullerton St          185\n",
      "Indiana Ave & 26th St             177\n",
      "Wallace Ave & 35th St             176\n",
      "Ashland Ave & 13th St             157\n",
      "May St & Cullerton St             144\n",
      "California Ave & 21st St          137\n",
      "MLK Jr Dr & Oakwood Blvd          116\n",
      "State St & 29th St                114\n",
      "Western Ave & 24th St              98\n",
      "Ashland Ave & 21st St              92\n",
      "Halsted St & 37th St               92\n",
      "Calumet Ave & 35th St              90\n",
      "MLK Jr Dr & 47th St                75\n",
      "Racine Ave & 13th St               74\n",
      "Indiana Ave & 40th St              74\n",
      "Cottage Grove Ave & 51st St        67\n",
      "Damen Ave & Coulter St             61\n",
      "Cottage Grove Ave & 43rd St        20\n",
      "Cottage Grove Ave & 47th St        19\n",
      "dtype: int64\n"
     ]
    }
   ],
   "source": [
    "print divvy_hr_df.groupby(['from_station_name'])['starttime'].size().order(ascending = False)"
   ]
  },
  {
   "cell_type": "code",
   "execution_count": 146,
   "metadata": {
    "collapsed": false
   },
   "outputs": [],
   "source": [
    "fromstation_starttime = divvy_hr_df.groupby(['from_station_name', 'starttime']).size()"
   ]
  },
  {
   "cell_type": "code",
   "execution_count": 147,
   "metadata": {
    "collapsed": true
   },
   "outputs": [],
   "source": [
    "ts = fromstation_starttime.unstack(level=0)"
   ]
  },
  {
   "cell_type": "code",
   "execution_count": 149,
   "metadata": {
    "collapsed": true
   },
   "outputs": [],
   "source": [
    "index = pd.date_range('2014-07-01', '2014-07-31', freq='H')"
   ]
  },
  {
   "cell_type": "code",
   "execution_count": 150,
   "metadata": {
    "collapsed": false
   },
   "outputs": [],
   "source": [
    "ts = ts.reindex(index, fill_value = 0)"
   ]
  },
  {
   "cell_type": "code",
   "execution_count": 154,
   "metadata": {
    "collapsed": true
   },
   "outputs": [],
   "source": [
    "ts = ts.fillna(0)"
   ]
  },
  {
   "cell_type": "code",
   "execution_count": 156,
   "metadata": {
    "collapsed": false
   },
   "outputs": [],
   "source": [
    "ts = ts.stack()"
   ]
  },
  {
   "cell_type": "code",
   "execution_count": 157,
   "metadata": {
    "collapsed": false
   },
   "outputs": [],
   "source": [
    "ts = ts.swaplevel(0,1)"
   ]
  },
  {
   "cell_type": "code",
   "execution_count": 158,
   "metadata": {
    "collapsed": false
   },
   "outputs": [],
   "source": [
    "ts = ts.sortlevel()"
   ]
  },
  {
   "cell_type": "code",
   "execution_count": null,
   "metadata": {
    "collapsed": true
   },
   "outputs": [],
   "source": []
  },
  {
   "cell_type": "code",
   "execution_count": 165,
   "metadata": {
    "collapsed": true
   },
   "outputs": [],
   "source": [
    "tostation_stoptime = divvy_hr_df.groupby(['to_station_name', 'stoptime']).size()"
   ]
  },
  {
   "cell_type": "code",
   "execution_count": 166,
   "metadata": {
    "collapsed": true
   },
   "outputs": [],
   "source": [
    "vs = tostation_stoptime.unstack(level=0)"
   ]
  },
  {
   "cell_type": "code",
   "execution_count": 167,
   "metadata": {
    "collapsed": true
   },
   "outputs": [],
   "source": [
    "vs = vs.reindex(index, fill_value = 0)"
   ]
  },
  {
   "cell_type": "code",
   "execution_count": 168,
   "metadata": {
    "collapsed": true
   },
   "outputs": [],
   "source": [
    "vs = vs.fillna(0)"
   ]
  },
  {
   "cell_type": "code",
   "execution_count": 169,
   "metadata": {
    "collapsed": true
   },
   "outputs": [],
   "source": [
    "vs = vs.stack()"
   ]
  },
  {
   "cell_type": "code",
   "execution_count": 170,
   "metadata": {
    "collapsed": true
   },
   "outputs": [],
   "source": [
    "vs = vs.swaplevel(0,1)"
   ]
  },
  {
   "cell_type": "code",
   "execution_count": 171,
   "metadata": {
    "collapsed": true
   },
   "outputs": [],
   "source": [
    "vs = vs.sortlevel()"
   ]
  },
  {
   "cell_type": "code",
   "execution_count": null,
   "metadata": {
    "collapsed": true
   },
   "outputs": [],
   "source": []
  },
  {
   "cell_type": "code",
   "execution_count": 200,
   "metadata": {
    "collapsed": false
   },
   "outputs": [],
   "source": [
    "combined = pd.concat([ts, vs], axis=1)"
   ]
  },
  {
   "cell_type": "code",
   "execution_count": 201,
   "metadata": {
    "collapsed": false
   },
   "outputs": [],
   "source": [
    "combined.columns = ['outflow', 'inflow']"
   ]
  },
  {
   "cell_type": "code",
   "execution_count": 202,
   "metadata": {
    "collapsed": false
   },
   "outputs": [
    {
     "data": {
      "text/html": [
       "<div>\n",
       "<table border=\"1\" class=\"dataframe\">\n",
       "  <thead>\n",
       "    <tr style=\"text-align: right;\">\n",
       "      <th></th>\n",
       "      <th></th>\n",
       "      <th>outflow</th>\n",
       "      <th>inflow</th>\n",
       "    </tr>\n",
       "    <tr>\n",
       "      <th>from_station_name</th>\n",
       "      <th></th>\n",
       "      <th></th>\n",
       "      <th></th>\n",
       "    </tr>\n",
       "  </thead>\n",
       "  <tbody>\n",
       "    <tr>\n",
       "      <th rowspan=\"5\" valign=\"top\">900 W Harrison</th>\n",
       "      <th>2014-07-01 00:00:00</th>\n",
       "      <td>0</td>\n",
       "      <td>0</td>\n",
       "    </tr>\n",
       "    <tr>\n",
       "      <th>2014-07-01 01:00:00</th>\n",
       "      <td>0</td>\n",
       "      <td>0</td>\n",
       "    </tr>\n",
       "    <tr>\n",
       "      <th>2014-07-01 02:00:00</th>\n",
       "      <td>0</td>\n",
       "      <td>0</td>\n",
       "    </tr>\n",
       "    <tr>\n",
       "      <th>2014-07-01 03:00:00</th>\n",
       "      <td>0</td>\n",
       "      <td>0</td>\n",
       "    </tr>\n",
       "    <tr>\n",
       "      <th>2014-07-01 04:00:00</th>\n",
       "      <td>0</td>\n",
       "      <td>0</td>\n",
       "    </tr>\n",
       "  </tbody>\n",
       "</table>\n",
       "</div>"
      ],
      "text/plain": [
       "                                       outflow  inflow\n",
       "from_station_name                                     \n",
       "900 W Harrison    2014-07-01 00:00:00        0       0\n",
       "                  2014-07-01 01:00:00        0       0\n",
       "                  2014-07-01 02:00:00        0       0\n",
       "                  2014-07-01 03:00:00        0       0\n",
       "                  2014-07-01 04:00:00        0       0"
      ]
     },
     "execution_count": 202,
     "metadata": {},
     "output_type": "execute_result"
    }
   ],
   "source": [
    "combined.head()"
   ]
  },
  {
   "cell_type": "code",
   "execution_count": 205,
   "metadata": {
    "collapsed": false
   },
   "outputs": [],
   "source": [
    "combined['flowdiff'] = combined['inflow'] - combined['outflow']"
   ]
  },
  {
   "cell_type": "code",
   "execution_count": 252,
   "metadata": {
    "collapsed": false
   },
   "outputs": [],
   "source": [
    "combined.index.names = ['station_name', 'hourly_time']"
   ]
  },
  {
   "cell_type": "code",
   "execution_count": 254,
   "metadata": {
    "collapsed": false
   },
   "outputs": [
    {
     "data": {
      "text/html": [
       "<div>\n",
       "<table border=\"1\" class=\"dataframe\">\n",
       "  <thead>\n",
       "    <tr style=\"text-align: right;\">\n",
       "      <th></th>\n",
       "      <th></th>\n",
       "      <th>outflow</th>\n",
       "      <th>inflow</th>\n",
       "      <th>flowdiff</th>\n",
       "    </tr>\n",
       "    <tr>\n",
       "      <th>station_name</th>\n",
       "      <th>hourly_time</th>\n",
       "      <th></th>\n",
       "      <th></th>\n",
       "      <th></th>\n",
       "    </tr>\n",
       "  </thead>\n",
       "  <tbody>\n",
       "    <tr>\n",
       "      <th rowspan=\"5\" valign=\"top\">900 W Harrison</th>\n",
       "      <th>2014-07-01 00:00:00</th>\n",
       "      <td>0</td>\n",
       "      <td>0</td>\n",
       "      <td>0</td>\n",
       "    </tr>\n",
       "    <tr>\n",
       "      <th>2014-07-01 01:00:00</th>\n",
       "      <td>0</td>\n",
       "      <td>0</td>\n",
       "      <td>0</td>\n",
       "    </tr>\n",
       "    <tr>\n",
       "      <th>2014-07-01 02:00:00</th>\n",
       "      <td>0</td>\n",
       "      <td>0</td>\n",
       "      <td>0</td>\n",
       "    </tr>\n",
       "    <tr>\n",
       "      <th>2014-07-01 03:00:00</th>\n",
       "      <td>0</td>\n",
       "      <td>0</td>\n",
       "      <td>0</td>\n",
       "    </tr>\n",
       "    <tr>\n",
       "      <th>2014-07-01 04:00:00</th>\n",
       "      <td>0</td>\n",
       "      <td>0</td>\n",
       "      <td>0</td>\n",
       "    </tr>\n",
       "  </tbody>\n",
       "</table>\n",
       "</div>"
      ],
      "text/plain": [
       "                                    outflow  inflow  flowdiff\n",
       "station_name   hourly_time                                   \n",
       "900 W Harrison 2014-07-01 00:00:00        0       0         0\n",
       "               2014-07-01 01:00:00        0       0         0\n",
       "               2014-07-01 02:00:00        0       0         0\n",
       "               2014-07-01 03:00:00        0       0         0\n",
       "               2014-07-01 04:00:00        0       0         0"
      ]
     },
     "execution_count": 254,
     "metadata": {},
     "output_type": "execute_result"
    }
   ],
   "source": [
    "combined.head()"
   ]
  },
  {
   "cell_type": "code",
   "execution_count": 214,
   "metadata": {
    "collapsed": false
   },
   "outputs": [
    {
     "data": {
      "text/plain": [
       " 0     101030\n",
       "-1      27066\n",
       " 1      26123\n",
       "-2      13577\n",
       " 2      13067\n",
       "-3       6909\n",
       " 3       6642\n",
       " 4       3949\n",
       "-4       3853\n",
       "-5       2323\n",
       " 5       2244\n",
       " 6       1436\n",
       "-6       1342\n",
       "-7        901\n",
       " 7        852\n",
       "-8        592\n",
       " 8        542\n",
       "-9        422\n",
       " 9        379\n",
       "-10       288\n",
       " 10       271\n",
       " 11       247\n",
       "-11       207\n",
       "-12       175\n",
       " 12       154\n",
       " 13       148\n",
       "-13       124\n",
       " 15       110\n",
       " 16        96\n",
       " 14        93\n",
       "        ...  \n",
       "-37         5\n",
       "-43         5\n",
       "-34         5\n",
       " 32         4\n",
       "-40         3\n",
       "-42         3\n",
       " 46         3\n",
       "-49         3\n",
       " 52         3\n",
       "-45         2\n",
       " 47         2\n",
       " 45         2\n",
       " 42         2\n",
       " 64         1\n",
       " 41         1\n",
       " 49         1\n",
       " 51         1\n",
       " 53         1\n",
       " 57         1\n",
       " 59         1\n",
       " 71         1\n",
       "-59         1\n",
       "-57         1\n",
       "-56         1\n",
       "-55         1\n",
       "-50         1\n",
       "-48         1\n",
       "-47         1\n",
       "-46         1\n",
       " 68         1\n",
       "dtype: int64"
      ]
     },
     "execution_count": 214,
     "metadata": {},
     "output_type": "execute_result"
    }
   ],
   "source": [
    "combined['flowdiff'].value_counts()"
   ]
  },
  {
   "cell_type": "code",
   "execution_count": 272,
   "metadata": {
    "collapsed": true
   },
   "outputs": [],
   "source": [
    "#flattened the multi-index DF from above.\n",
    "\n",
    "combined.reset_index(inplace=True)  "
   ]
  },
  {
   "cell_type": "code",
   "execution_count": 283,
   "metadata": {
    "collapsed": false
   },
   "outputs": [
    {
     "data": {
      "text/plain": [
       "(216300, 5)"
      ]
     },
     "execution_count": 283,
     "metadata": {},
     "output_type": "execute_result"
    }
   ],
   "source": [
    "combined.shape"
   ]
  },
  {
   "cell_type": "code",
   "execution_count": 328,
   "metadata": {
    "collapsed": false,
    "scrolled": true
   },
   "outputs": [
    {
     "data": {
      "text/html": [
       "<div>\n",
       "<table border=\"1\" class=\"dataframe\">\n",
       "  <thead>\n",
       "    <tr style=\"text-align: right;\">\n",
       "      <th></th>\n",
       "      <th>station_name</th>\n",
       "      <th>hourly_time</th>\n",
       "      <th>outflow</th>\n",
       "      <th>inflow</th>\n",
       "      <th>flowdiff</th>\n",
       "    </tr>\n",
       "  </thead>\n",
       "  <tbody>\n",
       "    <tr>\n",
       "      <th>0</th>\n",
       "      <td>900 W Harrison</td>\n",
       "      <td>2014-07-01 00:00:00</td>\n",
       "      <td>0</td>\n",
       "      <td>0</td>\n",
       "      <td>0</td>\n",
       "    </tr>\n",
       "    <tr>\n",
       "      <th>1</th>\n",
       "      <td>900 W Harrison</td>\n",
       "      <td>2014-07-01 01:00:00</td>\n",
       "      <td>0</td>\n",
       "      <td>0</td>\n",
       "      <td>0</td>\n",
       "    </tr>\n",
       "    <tr>\n",
       "      <th>2</th>\n",
       "      <td>900 W Harrison</td>\n",
       "      <td>2014-07-01 02:00:00</td>\n",
       "      <td>0</td>\n",
       "      <td>0</td>\n",
       "      <td>0</td>\n",
       "    </tr>\n",
       "    <tr>\n",
       "      <th>3</th>\n",
       "      <td>900 W Harrison</td>\n",
       "      <td>2014-07-01 03:00:00</td>\n",
       "      <td>0</td>\n",
       "      <td>0</td>\n",
       "      <td>0</td>\n",
       "    </tr>\n",
       "    <tr>\n",
       "      <th>4</th>\n",
       "      <td>900 W Harrison</td>\n",
       "      <td>2014-07-01 04:00:00</td>\n",
       "      <td>0</td>\n",
       "      <td>0</td>\n",
       "      <td>0</td>\n",
       "    </tr>\n",
       "  </tbody>\n",
       "</table>\n",
       "</div>"
      ],
      "text/plain": [
       "     station_name         hourly_time  outflow  inflow  flowdiff\n",
       "0  900 W Harrison 2014-07-01 00:00:00        0       0         0\n",
       "1  900 W Harrison 2014-07-01 01:00:00        0       0         0\n",
       "2  900 W Harrison 2014-07-01 02:00:00        0       0         0\n",
       "3  900 W Harrison 2014-07-01 03:00:00        0       0         0\n",
       "4  900 W Harrison 2014-07-01 04:00:00        0       0         0"
      ]
     },
     "execution_count": 328,
     "metadata": {},
     "output_type": "execute_result"
    }
   ],
   "source": [
    "combined.head()"
   ]
  },
  {
   "cell_type": "code",
   "execution_count": 292,
   "metadata": {
    "collapsed": false
   },
   "outputs": [],
   "source": [
    "just_ID_name = divvy_df.copy(deep=True)[['from_station_id', 'from_station_name']]"
   ]
  },
  {
   "cell_type": "code",
   "execution_count": 293,
   "metadata": {
    "collapsed": true
   },
   "outputs": [],
   "source": [
    "just_ID_name = just_ID_name.rename(columns = {'from_station_name':'station_name'})"
   ]
  },
  {
   "cell_type": "code",
   "execution_count": 321,
   "metadata": {
    "collapsed": false,
    "scrolled": true
   },
   "outputs": [],
   "source": [
    "just_ID_name = just_ID_name.drop_duplicates()"
   ]
  },
  {
   "cell_type": "code",
   "execution_count": 329,
   "metadata": {
    "collapsed": false
   },
   "outputs": [
    {
     "data": {
      "text/html": [
       "<div>\n",
       "<table border=\"1\" class=\"dataframe\">\n",
       "  <thead>\n",
       "    <tr style=\"text-align: right;\">\n",
       "      <th></th>\n",
       "      <th>from_station_id</th>\n",
       "      <th>station_name</th>\n",
       "    </tr>\n",
       "  </thead>\n",
       "  <tbody>\n",
       "    <tr>\n",
       "      <th>0</th>\n",
       "      <td>291</td>\n",
       "      <td>Wells St &amp; Evergreen Ave</td>\n",
       "    </tr>\n",
       "    <tr>\n",
       "      <th>1</th>\n",
       "      <td>98</td>\n",
       "      <td>LaSalle St &amp; Washington St</td>\n",
       "    </tr>\n",
       "    <tr>\n",
       "      <th>2</th>\n",
       "      <td>240</td>\n",
       "      <td>Sheridan Rd &amp; Irving Park Rd</td>\n",
       "    </tr>\n",
       "    <tr>\n",
       "      <th>3</th>\n",
       "      <td>47</td>\n",
       "      <td>State St &amp; Kinzie St</td>\n",
       "    </tr>\n",
       "    <tr>\n",
       "      <th>5</th>\n",
       "      <td>28</td>\n",
       "      <td>Larrabee St &amp; Menomonee St</td>\n",
       "    </tr>\n",
       "  </tbody>\n",
       "</table>\n",
       "</div>"
      ],
      "text/plain": [
       "   from_station_id                  station_name\n",
       "0              291      Wells St & Evergreen Ave\n",
       "1               98    LaSalle St & Washington St\n",
       "2              240  Sheridan Rd & Irving Park Rd\n",
       "3               47          State St & Kinzie St\n",
       "5               28    Larrabee St & Menomonee St"
      ]
     },
     "execution_count": 329,
     "metadata": {},
     "output_type": "execute_result"
    }
   ],
   "source": [
    "just_ID_name.head()"
   ]
  },
  {
   "cell_type": "code",
   "execution_count": 322,
   "metadata": {
    "collapsed": true
   },
   "outputs": [],
   "source": [
    "bigcombine = combined.copy(deep=True)"
   ]
  },
  {
   "cell_type": "code",
   "execution_count": 323,
   "metadata": {
    "collapsed": true
   },
   "outputs": [],
   "source": [
    "result = bigcombine.merge(just_ID_name)"
   ]
  },
  {
   "cell_type": "code",
   "execution_count": 332,
   "metadata": {
    "collapsed": true
   },
   "outputs": [],
   "source": [
    "result = result.rename(columns = {'from_station_id':'id'})"
   ]
  },
  {
   "cell_type": "code",
   "execution_count": 333,
   "metadata": {
    "collapsed": false
   },
   "outputs": [
    {
     "data": {
      "text/html": [
       "<div>\n",
       "<table border=\"1\" class=\"dataframe\">\n",
       "  <thead>\n",
       "    <tr style=\"text-align: right;\">\n",
       "      <th></th>\n",
       "      <th>station_name</th>\n",
       "      <th>hourly_time</th>\n",
       "      <th>outflow</th>\n",
       "      <th>inflow</th>\n",
       "      <th>flowdiff</th>\n",
       "      <th>id</th>\n",
       "    </tr>\n",
       "  </thead>\n",
       "  <tbody>\n",
       "    <tr>\n",
       "      <th>0</th>\n",
       "      <td>900 W Harrison</td>\n",
       "      <td>2014-07-01 00:00:00</td>\n",
       "      <td>0</td>\n",
       "      <td>0</td>\n",
       "      <td>0</td>\n",
       "      <td>109</td>\n",
       "    </tr>\n",
       "    <tr>\n",
       "      <th>1</th>\n",
       "      <td>900 W Harrison</td>\n",
       "      <td>2014-07-01 01:00:00</td>\n",
       "      <td>0</td>\n",
       "      <td>0</td>\n",
       "      <td>0</td>\n",
       "      <td>109</td>\n",
       "    </tr>\n",
       "    <tr>\n",
       "      <th>2</th>\n",
       "      <td>900 W Harrison</td>\n",
       "      <td>2014-07-01 02:00:00</td>\n",
       "      <td>0</td>\n",
       "      <td>0</td>\n",
       "      <td>0</td>\n",
       "      <td>109</td>\n",
       "    </tr>\n",
       "    <tr>\n",
       "      <th>3</th>\n",
       "      <td>900 W Harrison</td>\n",
       "      <td>2014-07-01 03:00:00</td>\n",
       "      <td>0</td>\n",
       "      <td>0</td>\n",
       "      <td>0</td>\n",
       "      <td>109</td>\n",
       "    </tr>\n",
       "    <tr>\n",
       "      <th>4</th>\n",
       "      <td>900 W Harrison</td>\n",
       "      <td>2014-07-01 04:00:00</td>\n",
       "      <td>0</td>\n",
       "      <td>0</td>\n",
       "      <td>0</td>\n",
       "      <td>109</td>\n",
       "    </tr>\n",
       "  </tbody>\n",
       "</table>\n",
       "</div>"
      ],
      "text/plain": [
       "     station_name         hourly_time  outflow  inflow  flowdiff   id\n",
       "0  900 W Harrison 2014-07-01 00:00:00        0       0         0  109\n",
       "1  900 W Harrison 2014-07-01 01:00:00        0       0         0  109\n",
       "2  900 W Harrison 2014-07-01 02:00:00        0       0         0  109\n",
       "3  900 W Harrison 2014-07-01 03:00:00        0       0         0  109\n",
       "4  900 W Harrison 2014-07-01 04:00:00        0       0         0  109"
      ]
     },
     "execution_count": 333,
     "metadata": {},
     "output_type": "execute_result"
    }
   ],
   "source": [
    "result.head()"
   ]
  },
  {
   "cell_type": "code",
   "execution_count": 342,
   "metadata": {
    "collapsed": false
   },
   "outputs": [
    {
     "data": {
      "text/plain": [
       "str"
      ]
     },
     "execution_count": 342,
     "metadata": {},
     "output_type": "execute_result"
    }
   ],
   "source": [
    "type(result.columns.values[0])"
   ]
  },
  {
   "cell_type": "code",
   "execution_count": 359,
   "metadata": {
    "collapsed": false
   },
   "outputs": [
    {
     "data": {
      "text/plain": [
       "array(['station_name', 'hourly_time', 'outflow', 'inflow', 'flowdiff', 'id'], dtype=object)"
      ]
     },
     "execution_count": 359,
     "metadata": {},
     "output_type": "execute_result"
    }
   ],
   "source": [
    "result.columns.values"
   ]
  },
  {
   "cell_type": "code",
   "execution_count": null,
   "metadata": {
    "collapsed": true
   },
   "outputs": [],
   "source": []
  },
  {
   "cell_type": "code",
   "execution_count": 242,
   "metadata": {
    "collapsed": false
   },
   "outputs": [],
   "source": [
    "request= Request('http://www.divvybikes.com/stations/json')\n",
    "response = urlopen(request)\n",
    "api = response.read()\n",
    "api_data = json.loads(api)\n",
    "api_df = json_normalize(api_data['stationBeanList'])"
   ]
  },
  {
   "cell_type": "code",
   "execution_count": 243,
   "metadata": {
    "collapsed": false
   },
   "outputs": [],
   "source": [
    "api_df = api_df[[\"id\", \"latitude\", \"longitude\", \"stationName\", \"totalDocks\"]]"
   ]
  },
  {
   "cell_type": "code",
   "execution_count": 268,
   "metadata": {
    "collapsed": false
   },
   "outputs": [
    {
     "data": {
      "text/html": [
       "<div>\n",
       "<table border=\"1\" class=\"dataframe\">\n",
       "  <thead>\n",
       "    <tr style=\"text-align: right;\">\n",
       "      <th></th>\n",
       "      <th>id</th>\n",
       "      <th>latitude</th>\n",
       "      <th>longitude</th>\n",
       "      <th>stationName</th>\n",
       "      <th>totalDocks</th>\n",
       "    </tr>\n",
       "  </thead>\n",
       "  <tbody>\n",
       "    <tr>\n",
       "      <th>0</th>\n",
       "      <td>2</td>\n",
       "      <td>41.872293</td>\n",
       "      <td>-87.624091</td>\n",
       "      <td>Michigan Ave &amp; Balbo Ave</td>\n",
       "      <td>35</td>\n",
       "    </tr>\n",
       "    <tr>\n",
       "      <th>1</th>\n",
       "      <td>3</td>\n",
       "      <td>41.867226</td>\n",
       "      <td>-87.615355</td>\n",
       "      <td>Shedd Aquarium</td>\n",
       "      <td>31</td>\n",
       "    </tr>\n",
       "    <tr>\n",
       "      <th>2</th>\n",
       "      <td>4</td>\n",
       "      <td>41.856268</td>\n",
       "      <td>-87.613348</td>\n",
       "      <td>Burnham Harbor</td>\n",
       "      <td>22</td>\n",
       "    </tr>\n",
       "    <tr>\n",
       "      <th>3</th>\n",
       "      <td>5</td>\n",
       "      <td>41.874053</td>\n",
       "      <td>-87.627716</td>\n",
       "      <td>State St &amp; Harrison St</td>\n",
       "      <td>23</td>\n",
       "    </tr>\n",
       "    <tr>\n",
       "      <th>4</th>\n",
       "      <td>6</td>\n",
       "      <td>41.885042</td>\n",
       "      <td>-87.612795</td>\n",
       "      <td>Dusable Harbor</td>\n",
       "      <td>31</td>\n",
       "    </tr>\n",
       "  </tbody>\n",
       "</table>\n",
       "</div>"
      ],
      "text/plain": [
       "   id   latitude  longitude               stationName  totalDocks\n",
       "0   2  41.872293 -87.624091  Michigan Ave & Balbo Ave          35\n",
       "1   3  41.867226 -87.615355            Shedd Aquarium          31\n",
       "2   4  41.856268 -87.613348            Burnham Harbor          22\n",
       "3   5  41.874053 -87.627716    State St & Harrison St          23\n",
       "4   6  41.885042 -87.612795            Dusable Harbor          31"
      ]
     },
     "execution_count": 268,
     "metadata": {},
     "output_type": "execute_result"
    }
   ],
   "source": [
    "api_df.head()"
   ]
  },
  {
   "cell_type": "code",
   "execution_count": 370,
   "metadata": {
    "collapsed": false
   },
   "outputs": [
    {
     "data": {
      "text/plain": [
       "Index([u'id', u'latitude', u'longitude', u'stationName', u'totalDocks'], dtype='object')"
      ]
     },
     "execution_count": 370,
     "metadata": {},
     "output_type": "execute_result"
    }
   ],
   "source": [
    "api_df.columns"
   ]
  },
  {
   "cell_type": "code",
   "execution_count": 371,
   "metadata": {
    "collapsed": false
   },
   "outputs": [
    {
     "data": {
      "text/plain": [
       "Index([u'station_name', u'hourly_time', u'outflow', u'inflow', u'flowdiff',\n",
       "       u'id'],\n",
       "      dtype='object')"
      ]
     },
     "execution_count": 371,
     "metadata": {},
     "output_type": "execute_result"
    }
   ],
   "source": [
    "result.columns"
   ]
  },
  {
   "cell_type": "code",
   "execution_count": 368,
   "metadata": {
    "collapsed": false
   },
   "outputs": [],
   "source": [
    "api_df.columns = map(lambda x: x.encode('utf-8'), api_df.columns)"
   ]
  },
  {
   "cell_type": "code",
   "execution_count": 374,
   "metadata": {
    "collapsed": false,
    "scrolled": true
   },
   "outputs": [],
   "source": [
    "bigresult = pd.merge(result, api_df, on='id')"
   ]
  },
  {
   "cell_type": "code",
   "execution_count": 480,
   "metadata": {
    "collapsed": false
   },
   "outputs": [
    {
     "data": {
      "text/html": [
       "<div>\n",
       "<table border=\"1\" class=\"dataframe\">\n",
       "  <thead>\n",
       "    <tr style=\"text-align: right;\">\n",
       "      <th></th>\n",
       "      <th>station_name</th>\n",
       "      <th>hourly_time</th>\n",
       "      <th>outflow</th>\n",
       "      <th>inflow</th>\n",
       "      <th>flowdiff</th>\n",
       "      <th>id</th>\n",
       "      <th>latitude</th>\n",
       "      <th>longitude</th>\n",
       "      <th>totalDocks</th>\n",
       "    </tr>\n",
       "  </thead>\n",
       "  <tbody>\n",
       "    <tr>\n",
       "      <th>0</th>\n",
       "      <td>900 W Harrison</td>\n",
       "      <td>2014-07-01 00:00:00</td>\n",
       "      <td>0</td>\n",
       "      <td>0</td>\n",
       "      <td>0</td>\n",
       "      <td>109</td>\n",
       "      <td>41.874675</td>\n",
       "      <td>-87.650019</td>\n",
       "      <td>19</td>\n",
       "    </tr>\n",
       "    <tr>\n",
       "      <th>1</th>\n",
       "      <td>900 W Harrison</td>\n",
       "      <td>2014-07-01 01:00:00</td>\n",
       "      <td>0</td>\n",
       "      <td>0</td>\n",
       "      <td>0</td>\n",
       "      <td>109</td>\n",
       "      <td>41.874675</td>\n",
       "      <td>-87.650019</td>\n",
       "      <td>19</td>\n",
       "    </tr>\n",
       "    <tr>\n",
       "      <th>2</th>\n",
       "      <td>900 W Harrison</td>\n",
       "      <td>2014-07-01 02:00:00</td>\n",
       "      <td>0</td>\n",
       "      <td>0</td>\n",
       "      <td>0</td>\n",
       "      <td>109</td>\n",
       "      <td>41.874675</td>\n",
       "      <td>-87.650019</td>\n",
       "      <td>19</td>\n",
       "    </tr>\n",
       "    <tr>\n",
       "      <th>3</th>\n",
       "      <td>900 W Harrison</td>\n",
       "      <td>2014-07-01 03:00:00</td>\n",
       "      <td>0</td>\n",
       "      <td>0</td>\n",
       "      <td>0</td>\n",
       "      <td>109</td>\n",
       "      <td>41.874675</td>\n",
       "      <td>-87.650019</td>\n",
       "      <td>19</td>\n",
       "    </tr>\n",
       "    <tr>\n",
       "      <th>4</th>\n",
       "      <td>900 W Harrison</td>\n",
       "      <td>2014-07-01 04:00:00</td>\n",
       "      <td>0</td>\n",
       "      <td>0</td>\n",
       "      <td>0</td>\n",
       "      <td>109</td>\n",
       "      <td>41.874675</td>\n",
       "      <td>-87.650019</td>\n",
       "      <td>19</td>\n",
       "    </tr>\n",
       "  </tbody>\n",
       "</table>\n",
       "</div>"
      ],
      "text/plain": [
       "     station_name         hourly_time  outflow  inflow  flowdiff   id  \\\n",
       "0  900 W Harrison 2014-07-01 00:00:00        0       0         0  109   \n",
       "1  900 W Harrison 2014-07-01 01:00:00        0       0         0  109   \n",
       "2  900 W Harrison 2014-07-01 02:00:00        0       0         0  109   \n",
       "3  900 W Harrison 2014-07-01 03:00:00        0       0         0  109   \n",
       "4  900 W Harrison 2014-07-01 04:00:00        0       0         0  109   \n",
       "\n",
       "    latitude  longitude  totalDocks  \n",
       "0  41.874675 -87.650019          19  \n",
       "1  41.874675 -87.650019          19  \n",
       "2  41.874675 -87.650019          19  \n",
       "3  41.874675 -87.650019          19  \n",
       "4  41.874675 -87.650019          19  "
      ]
     },
     "execution_count": 480,
     "metadata": {},
     "output_type": "execute_result"
    }
   ],
   "source": [
    "# bigresult.drop(bigresult.columns[[-1]], axis = 1, inplace = True)\n",
    "# bigresult.head()"
   ]
  },
  {
   "cell_type": "code",
   "execution_count": 486,
   "metadata": {
    "collapsed": false
   },
   "outputs": [],
   "source": [
    "bigresult['running_low'] = ((bigresult.flowdiff < 0) & (bigresult.flowdiff.abs() > (bigresult.totalDocks * 1.5/3.0))).astype(int)"
   ]
  },
  {
   "cell_type": "code",
   "execution_count": 487,
   "metadata": {
    "collapsed": false
   },
   "outputs": [
    {
     "data": {
      "text/html": [
       "<div>\n",
       "<table border=\"1\" class=\"dataframe\">\n",
       "  <thead>\n",
       "    <tr style=\"text-align: right;\">\n",
       "      <th></th>\n",
       "      <th>station_name</th>\n",
       "      <th>hourly_time</th>\n",
       "      <th>outflow</th>\n",
       "      <th>inflow</th>\n",
       "      <th>flowdiff</th>\n",
       "      <th>id</th>\n",
       "      <th>latitude</th>\n",
       "      <th>longitude</th>\n",
       "      <th>totalDocks</th>\n",
       "      <th>running_low</th>\n",
       "    </tr>\n",
       "  </thead>\n",
       "  <tbody>\n",
       "    <tr>\n",
       "      <th>0</th>\n",
       "      <td>900 W Harrison</td>\n",
       "      <td>2014-07-01 00:00:00</td>\n",
       "      <td>0</td>\n",
       "      <td>0</td>\n",
       "      <td>0</td>\n",
       "      <td>109</td>\n",
       "      <td>41.874675</td>\n",
       "      <td>-87.650019</td>\n",
       "      <td>19</td>\n",
       "      <td>0</td>\n",
       "    </tr>\n",
       "    <tr>\n",
       "      <th>1</th>\n",
       "      <td>900 W Harrison</td>\n",
       "      <td>2014-07-01 01:00:00</td>\n",
       "      <td>0</td>\n",
       "      <td>0</td>\n",
       "      <td>0</td>\n",
       "      <td>109</td>\n",
       "      <td>41.874675</td>\n",
       "      <td>-87.650019</td>\n",
       "      <td>19</td>\n",
       "      <td>0</td>\n",
       "    </tr>\n",
       "    <tr>\n",
       "      <th>2</th>\n",
       "      <td>900 W Harrison</td>\n",
       "      <td>2014-07-01 02:00:00</td>\n",
       "      <td>0</td>\n",
       "      <td>0</td>\n",
       "      <td>0</td>\n",
       "      <td>109</td>\n",
       "      <td>41.874675</td>\n",
       "      <td>-87.650019</td>\n",
       "      <td>19</td>\n",
       "      <td>0</td>\n",
       "    </tr>\n",
       "    <tr>\n",
       "      <th>3</th>\n",
       "      <td>900 W Harrison</td>\n",
       "      <td>2014-07-01 03:00:00</td>\n",
       "      <td>0</td>\n",
       "      <td>0</td>\n",
       "      <td>0</td>\n",
       "      <td>109</td>\n",
       "      <td>41.874675</td>\n",
       "      <td>-87.650019</td>\n",
       "      <td>19</td>\n",
       "      <td>0</td>\n",
       "    </tr>\n",
       "    <tr>\n",
       "      <th>4</th>\n",
       "      <td>900 W Harrison</td>\n",
       "      <td>2014-07-01 04:00:00</td>\n",
       "      <td>0</td>\n",
       "      <td>0</td>\n",
       "      <td>0</td>\n",
       "      <td>109</td>\n",
       "      <td>41.874675</td>\n",
       "      <td>-87.650019</td>\n",
       "      <td>19</td>\n",
       "      <td>0</td>\n",
       "    </tr>\n",
       "  </tbody>\n",
       "</table>\n",
       "</div>"
      ],
      "text/plain": [
       "     station_name         hourly_time  outflow  inflow  flowdiff   id  \\\n",
       "0  900 W Harrison 2014-07-01 00:00:00        0       0         0  109   \n",
       "1  900 W Harrison 2014-07-01 01:00:00        0       0         0  109   \n",
       "2  900 W Harrison 2014-07-01 02:00:00        0       0         0  109   \n",
       "3  900 W Harrison 2014-07-01 03:00:00        0       0         0  109   \n",
       "4  900 W Harrison 2014-07-01 04:00:00        0       0         0  109   \n",
       "\n",
       "    latitude  longitude  totalDocks  running_low  \n",
       "0  41.874675 -87.650019          19            0  \n",
       "1  41.874675 -87.650019          19            0  \n",
       "2  41.874675 -87.650019          19            0  \n",
       "3  41.874675 -87.650019          19            0  \n",
       "4  41.874675 -87.650019          19            0  "
      ]
     },
     "execution_count": 487,
     "metadata": {},
     "output_type": "execute_result"
    }
   ],
   "source": [
    "bigresult.head()"
   ]
  },
  {
   "cell_type": "code",
   "execution_count": 490,
   "metadata": {
    "collapsed": false
   },
   "outputs": [
    {
     "data": {
      "text/plain": [
       "count    216300.000000\n",
       "mean          0.005039\n",
       "std           0.070809\n",
       "min           0.000000\n",
       "25%           0.000000\n",
       "50%           0.000000\n",
       "75%           0.000000\n",
       "max           1.000000\n",
       "Name: running_low, dtype: float64"
      ]
     },
     "execution_count": 490,
     "metadata": {},
     "output_type": "execute_result"
    }
   ],
   "source": [
    "bigresult['running_low'].describe()"
   ]
  },
  {
   "cell_type": "code",
   "execution_count": 396,
   "metadata": {
    "collapsed": false
   },
   "outputs": [],
   "source": []
  }
 ],
 "metadata": {
  "kernelspec": {
   "display_name": "Python 2",
   "language": "python",
   "name": "python2"
  },
  "language_info": {
   "codemirror_mode": {
    "name": "ipython",
    "version": 2
   },
   "file_extension": ".py",
   "mimetype": "text/x-python",
   "name": "python",
   "nbconvert_exporter": "python",
   "pygments_lexer": "ipython2",
   "version": "2.7.10"
  }
 },
 "nbformat": 4,
 "nbformat_minor": 0
}
